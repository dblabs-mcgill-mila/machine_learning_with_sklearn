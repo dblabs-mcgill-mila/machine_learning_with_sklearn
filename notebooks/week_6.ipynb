{
 "cells": [
  {
   "cell_type": "markdown",
   "metadata": {},
   "source": [
    "##### Disclaimers \n",
    "This material is derived from **[scikit-learn-mooc](https://github.com/INRIA/scikit-learn-mooc)** under the fair-usage clause of `Creative Commons`.\n",
    "\n",
    "*References to all the sources apart from the scikit-learn-mooc are linked*"
   ]
  },
  {
   "cell_type": "markdown",
   "metadata": {},
   "source": [
    "### SIXTH SESSION"
   ]
  },
  {
   "cell_type": "markdown",
   "metadata": {},
   "source": [
    "#### Comparing model performance with a simple baseline\n",
    "\n",
    "In this section, we present how to compare the generalization performance of a model to a minimal baseline. In regression, we can use the `DummyRegressor` class to predict the mean target value observed on the training set without using the input features.\n",
    "\n",
    "Across all evaluations, we will use a `ShuffleSplit` cross-validation splitter with 20% of the data held on the validation side of the split.\n",
    "\n",
    "We start by running the cross-validation for a simple decision tree regressor. Besides, we will store the testing error in a pandas series to make it easier to plot the results.\n",
    "\n",
    "Then, we evaluate our baseline with a dummy regressor.\n",
    "\n",
    "This dummy regressor will always predict the mean target computed on the training target. Therefore, the dummy regressor does not use any information from the input features stored in the dataframe named `data`\n",
    "\n",
    "We then plot the cross-validation testing errors for the mean target baseline and the actual decision tree regressor.\n",
    "\n",
    "We see that our decision tree's generalization performance is far from perfect: the price predictions are off by more than 45,000 US dollars on average. \n",
    "\n",
    "However, it is much better than the mean price baseline. So this confirms that it is possible to predict the housing price much better by using a model that considers the values of the input features (housing location, size, neighborhood income). Such a model makes more informed predictions and divides the error rate by a factor of 2 compared to the baseline that ignores the input features.\n",
    "\n",
    "Note that we used the mean price as the baseline prediction. We could have also used the median instead. \n",
    "\n",
    "See the online documentation of the [sklearn.dummy.DummyRegressor](https://scikit-learn.org/stable/modules/generated/sklearn.dummy.DummyRegressor.html) class for other options. \n"
   ]
  },
  {
   "cell_type": "code",
   "execution_count": 1,
   "metadata": {},
   "outputs": [],
   "source": [
    "from sklearn.datasets import fetch_california_housing\n",
    "from sklearn import set_config\n",
    "\n",
    "set_config(display=\"diagram\")\n",
    "\n",
    "data, target = fetch_california_housing(\n",
    "    return_X_y=True,\n",
    "    as_frame=True\n",
    ")\n",
    "\n",
    "target *= 100  # rescale the target in k$"
   ]
  },
  {
   "cell_type": "code",
   "execution_count": 2,
   "metadata": {},
   "outputs": [],
   "source": [
    "from sklearn.model_selection import ShuffleSplit\n",
    "\n",
    "cv = ShuffleSplit(\n",
    "    n_splits=30,\n",
    "    test_size=0.2,\n",
    "    random_state=42\n",
    ")"
   ]
  },
  {
   "cell_type": "code",
   "execution_count": 3,
   "metadata": {},
   "outputs": [
    {
     "data": {
      "text/html": [
       "<style>#sk-container-id-1 {color: black;background-color: white;}#sk-container-id-1 pre{padding: 0;}#sk-container-id-1 div.sk-toggleable {background-color: white;}#sk-container-id-1 label.sk-toggleable__label {cursor: pointer;display: block;width: 100%;margin-bottom: 0;padding: 0.3em;box-sizing: border-box;text-align: center;}#sk-container-id-1 label.sk-toggleable__label-arrow:before {content: \"▸\";float: left;margin-right: 0.25em;color: #696969;}#sk-container-id-1 label.sk-toggleable__label-arrow:hover:before {color: black;}#sk-container-id-1 div.sk-estimator:hover label.sk-toggleable__label-arrow:before {color: black;}#sk-container-id-1 div.sk-toggleable__content {max-height: 0;max-width: 0;overflow: hidden;text-align: left;background-color: #f0f8ff;}#sk-container-id-1 div.sk-toggleable__content pre {margin: 0.2em;color: black;border-radius: 0.25em;background-color: #f0f8ff;}#sk-container-id-1 input.sk-toggleable__control:checked~div.sk-toggleable__content {max-height: 200px;max-width: 100%;overflow: auto;}#sk-container-id-1 input.sk-toggleable__control:checked~label.sk-toggleable__label-arrow:before {content: \"▾\";}#sk-container-id-1 div.sk-estimator input.sk-toggleable__control:checked~label.sk-toggleable__label {background-color: #d4ebff;}#sk-container-id-1 div.sk-label input.sk-toggleable__control:checked~label.sk-toggleable__label {background-color: #d4ebff;}#sk-container-id-1 input.sk-hidden--visually {border: 0;clip: rect(1px 1px 1px 1px);clip: rect(1px, 1px, 1px, 1px);height: 1px;margin: -1px;overflow: hidden;padding: 0;position: absolute;width: 1px;}#sk-container-id-1 div.sk-estimator {font-family: monospace;background-color: #f0f8ff;border: 1px dotted black;border-radius: 0.25em;box-sizing: border-box;margin-bottom: 0.5em;}#sk-container-id-1 div.sk-estimator:hover {background-color: #d4ebff;}#sk-container-id-1 div.sk-parallel-item::after {content: \"\";width: 100%;border-bottom: 1px solid gray;flex-grow: 1;}#sk-container-id-1 div.sk-label:hover label.sk-toggleable__label {background-color: #d4ebff;}#sk-container-id-1 div.sk-serial::before {content: \"\";position: absolute;border-left: 1px solid gray;box-sizing: border-box;top: 0;bottom: 0;left: 50%;z-index: 0;}#sk-container-id-1 div.sk-serial {display: flex;flex-direction: column;align-items: center;background-color: white;padding-right: 0.2em;padding-left: 0.2em;position: relative;}#sk-container-id-1 div.sk-item {position: relative;z-index: 1;}#sk-container-id-1 div.sk-parallel {display: flex;align-items: stretch;justify-content: center;background-color: white;position: relative;}#sk-container-id-1 div.sk-item::before, #sk-container-id-1 div.sk-parallel-item::before {content: \"\";position: absolute;border-left: 1px solid gray;box-sizing: border-box;top: 0;bottom: 0;left: 50%;z-index: -1;}#sk-container-id-1 div.sk-parallel-item {display: flex;flex-direction: column;z-index: 1;position: relative;background-color: white;}#sk-container-id-1 div.sk-parallel-item:first-child::after {align-self: flex-end;width: 50%;}#sk-container-id-1 div.sk-parallel-item:last-child::after {align-self: flex-start;width: 50%;}#sk-container-id-1 div.sk-parallel-item:only-child::after {width: 0;}#sk-container-id-1 div.sk-dashed-wrapped {border: 1px dashed gray;margin: 0 0.4em 0.5em 0.4em;box-sizing: border-box;padding-bottom: 0.4em;background-color: white;}#sk-container-id-1 div.sk-label label {font-family: monospace;font-weight: bold;display: inline-block;line-height: 1.2em;}#sk-container-id-1 div.sk-label-container {text-align: center;}#sk-container-id-1 div.sk-container {/* jupyter's `normalize.less` sets `[hidden] { display: none; }` but bootstrap.min.css set `[hidden] { display: none !important; }` so we also need the `!important` here to be able to override the default hidden behavior on the sphinx rendered scikit-learn.org. See: https://github.com/scikit-learn/scikit-learn/issues/21755 */display: inline-block !important;position: relative;}#sk-container-id-1 div.sk-text-repr-fallback {display: none;}</style><div id=\"sk-container-id-1\" class=\"sk-top-container\"><div class=\"sk-text-repr-fallback\"><pre>DecisionTreeRegressor()</pre><b>In a Jupyter environment, please rerun this cell to show the HTML representation or trust the notebook. <br />On GitHub, the HTML representation is unable to render, please try loading this page with nbviewer.org.</b></div><div class=\"sk-container\" hidden><div class=\"sk-item\"><div class=\"sk-estimator sk-toggleable\"><input class=\"sk-toggleable__control sk-hidden--visually\" id=\"sk-estimator-id-1\" type=\"checkbox\" checked><label for=\"sk-estimator-id-1\" class=\"sk-toggleable__label sk-toggleable__label-arrow\">DecisionTreeRegressor</label><div class=\"sk-toggleable__content\"><pre>DecisionTreeRegressor()</pre></div></div></div></div></div>"
      ],
      "text/plain": [
       "DecisionTreeRegressor()"
      ]
     },
     "execution_count": 3,
     "metadata": {},
     "output_type": "execute_result"
    }
   ],
   "source": [
    "import pandas as pd\n",
    "from sklearn.tree import DecisionTreeRegressor\n",
    "from sklearn.model_selection import cross_validate\n",
    "\n",
    "regressor = DecisionTreeRegressor()\n",
    "\n",
    "regressor"
   ]
  },
  {
   "cell_type": "code",
   "execution_count": 4,
   "metadata": {},
   "outputs": [
    {
     "data": {
      "text/plain": [
       "count    30.000000\n",
       "mean     46.020662\n",
       "std       0.726756\n",
       "min      44.576544\n",
       "25%      45.588287\n",
       "50%      45.990145\n",
       "75%      46.559732\n",
       "max      47.698807\n",
       "Name: Decision tree regressor, dtype: float64"
      ]
     },
     "execution_count": 4,
     "metadata": {},
     "output_type": "execute_result"
    }
   ],
   "source": [
    "cv_results_tree_regressor = cross_validate(\n",
    "    regressor,\n",
    "    data,\n",
    "    target,\n",
    "    cv=cv,\n",
    "    scoring=\"neg_mean_absolute_error\",\n",
    "    n_jobs=2\n",
    ")\n",
    "\n",
    "errors_tree_regressor = pd.Series(\n",
    "    -cv_results_tree_regressor[\"test_score\"],\n",
    "    name=\"Decision tree regressor\"\n",
    ")\n",
    "\n",
    "errors_tree_regressor.describe()"
   ]
  },
  {
   "cell_type": "code",
   "execution_count": 5,
   "metadata": {},
   "outputs": [
    {
     "data": {
      "text/html": [
       "<style>#sk-container-id-2 {color: black;background-color: white;}#sk-container-id-2 pre{padding: 0;}#sk-container-id-2 div.sk-toggleable {background-color: white;}#sk-container-id-2 label.sk-toggleable__label {cursor: pointer;display: block;width: 100%;margin-bottom: 0;padding: 0.3em;box-sizing: border-box;text-align: center;}#sk-container-id-2 label.sk-toggleable__label-arrow:before {content: \"▸\";float: left;margin-right: 0.25em;color: #696969;}#sk-container-id-2 label.sk-toggleable__label-arrow:hover:before {color: black;}#sk-container-id-2 div.sk-estimator:hover label.sk-toggleable__label-arrow:before {color: black;}#sk-container-id-2 div.sk-toggleable__content {max-height: 0;max-width: 0;overflow: hidden;text-align: left;background-color: #f0f8ff;}#sk-container-id-2 div.sk-toggleable__content pre {margin: 0.2em;color: black;border-radius: 0.25em;background-color: #f0f8ff;}#sk-container-id-2 input.sk-toggleable__control:checked~div.sk-toggleable__content {max-height: 200px;max-width: 100%;overflow: auto;}#sk-container-id-2 input.sk-toggleable__control:checked~label.sk-toggleable__label-arrow:before {content: \"▾\";}#sk-container-id-2 div.sk-estimator input.sk-toggleable__control:checked~label.sk-toggleable__label {background-color: #d4ebff;}#sk-container-id-2 div.sk-label input.sk-toggleable__control:checked~label.sk-toggleable__label {background-color: #d4ebff;}#sk-container-id-2 input.sk-hidden--visually {border: 0;clip: rect(1px 1px 1px 1px);clip: rect(1px, 1px, 1px, 1px);height: 1px;margin: -1px;overflow: hidden;padding: 0;position: absolute;width: 1px;}#sk-container-id-2 div.sk-estimator {font-family: monospace;background-color: #f0f8ff;border: 1px dotted black;border-radius: 0.25em;box-sizing: border-box;margin-bottom: 0.5em;}#sk-container-id-2 div.sk-estimator:hover {background-color: #d4ebff;}#sk-container-id-2 div.sk-parallel-item::after {content: \"\";width: 100%;border-bottom: 1px solid gray;flex-grow: 1;}#sk-container-id-2 div.sk-label:hover label.sk-toggleable__label {background-color: #d4ebff;}#sk-container-id-2 div.sk-serial::before {content: \"\";position: absolute;border-left: 1px solid gray;box-sizing: border-box;top: 0;bottom: 0;left: 50%;z-index: 0;}#sk-container-id-2 div.sk-serial {display: flex;flex-direction: column;align-items: center;background-color: white;padding-right: 0.2em;padding-left: 0.2em;position: relative;}#sk-container-id-2 div.sk-item {position: relative;z-index: 1;}#sk-container-id-2 div.sk-parallel {display: flex;align-items: stretch;justify-content: center;background-color: white;position: relative;}#sk-container-id-2 div.sk-item::before, #sk-container-id-2 div.sk-parallel-item::before {content: \"\";position: absolute;border-left: 1px solid gray;box-sizing: border-box;top: 0;bottom: 0;left: 50%;z-index: -1;}#sk-container-id-2 div.sk-parallel-item {display: flex;flex-direction: column;z-index: 1;position: relative;background-color: white;}#sk-container-id-2 div.sk-parallel-item:first-child::after {align-self: flex-end;width: 50%;}#sk-container-id-2 div.sk-parallel-item:last-child::after {align-self: flex-start;width: 50%;}#sk-container-id-2 div.sk-parallel-item:only-child::after {width: 0;}#sk-container-id-2 div.sk-dashed-wrapped {border: 1px dashed gray;margin: 0 0.4em 0.5em 0.4em;box-sizing: border-box;padding-bottom: 0.4em;background-color: white;}#sk-container-id-2 div.sk-label label {font-family: monospace;font-weight: bold;display: inline-block;line-height: 1.2em;}#sk-container-id-2 div.sk-label-container {text-align: center;}#sk-container-id-2 div.sk-container {/* jupyter's `normalize.less` sets `[hidden] { display: none; }` but bootstrap.min.css set `[hidden] { display: none !important; }` so we also need the `!important` here to be able to override the default hidden behavior on the sphinx rendered scikit-learn.org. See: https://github.com/scikit-learn/scikit-learn/issues/21755 */display: inline-block !important;position: relative;}#sk-container-id-2 div.sk-text-repr-fallback {display: none;}</style><div id=\"sk-container-id-2\" class=\"sk-top-container\"><div class=\"sk-text-repr-fallback\"><pre>DummyRegressor()</pre><b>In a Jupyter environment, please rerun this cell to show the HTML representation or trust the notebook. <br />On GitHub, the HTML representation is unable to render, please try loading this page with nbviewer.org.</b></div><div class=\"sk-container\" hidden><div class=\"sk-item\"><div class=\"sk-estimator sk-toggleable\"><input class=\"sk-toggleable__control sk-hidden--visually\" id=\"sk-estimator-id-2\" type=\"checkbox\" checked><label for=\"sk-estimator-id-2\" class=\"sk-toggleable__label sk-toggleable__label-arrow\">DummyRegressor</label><div class=\"sk-toggleable__content\"><pre>DummyRegressor()</pre></div></div></div></div></div>"
      ],
      "text/plain": [
       "DummyRegressor()"
      ]
     },
     "execution_count": 5,
     "metadata": {},
     "output_type": "execute_result"
    }
   ],
   "source": [
    "from sklearn.dummy import DummyRegressor\n",
    "\n",
    "\"\"\"\n",
    "strategy : {\"mean\", \"median\", \"quantile\", \"constant\"}, default=\"mean\"\n",
    "    Strategy to use to generate predictions.\n",
    "\n",
    "    * \"mean\": always predicts the mean of the training set\n",
    "    * \"median\": always predicts the median of the training set\n",
    "    * \"quantile\": always predicts a specified quantile of the training set,\n",
    "        provided with the quantile parameter.\n",
    "    * \"constant\": always predicts a constant value that is provided by\n",
    "        the user.\n",
    "\"\"\"\n",
    "\n",
    "dummy = DummyRegressor(strategy=\"mean\")\n",
    "\n",
    "dummy"
   ]
  },
  {
   "cell_type": "code",
   "execution_count": 6,
   "metadata": {},
   "outputs": [
    {
     "data": {
      "text/plain": [
       "count    30.000000\n",
       "mean     91.282664\n",
       "std       1.128860\n",
       "min      89.092680\n",
       "25%      90.732195\n",
       "50%      91.246424\n",
       "75%      92.119684\n",
       "max      93.588837\n",
       "Name: Dummy regressor, dtype: float64"
      ]
     },
     "execution_count": 6,
     "metadata": {},
     "output_type": "execute_result"
    }
   ],
   "source": [
    "result_dummy = cross_validate(\n",
    "    dummy,\n",
    "    data,\n",
    "    target,\n",
    "    cv=cv,\n",
    "    scoring=\"neg_mean_absolute_error\",\n",
    "    n_jobs=2\n",
    ")\n",
    "\n",
    "errors_dummy_regressor = pd.Series(\n",
    "    -result_dummy[\"test_score\"], name=\"Dummy regressor\"\n",
    ")\n",
    "\n",
    "errors_dummy_regressor.describe()"
   ]
  },
  {
   "cell_type": "code",
   "execution_count": 7,
   "metadata": {},
   "outputs": [
    {
     "data": {
      "text/html": [
       "<div>\n",
       "<style scoped>\n",
       "    .dataframe tbody tr th:only-of-type {\n",
       "        vertical-align: middle;\n",
       "    }\n",
       "\n",
       "    .dataframe tbody tr th {\n",
       "        vertical-align: top;\n",
       "    }\n",
       "\n",
       "    .dataframe thead th {\n",
       "        text-align: right;\n",
       "    }\n",
       "</style>\n",
       "<table border=\"1\" class=\"dataframe\">\n",
       "  <thead>\n",
       "    <tr style=\"text-align: right;\">\n",
       "      <th></th>\n",
       "      <th>Decision tree regressor</th>\n",
       "      <th>Dummy regressor</th>\n",
       "    </tr>\n",
       "  </thead>\n",
       "  <tbody>\n",
       "    <tr>\n",
       "      <th>0</th>\n",
       "      <td>45.936790</td>\n",
       "      <td>90.606855</td>\n",
       "    </tr>\n",
       "    <tr>\n",
       "      <th>1</th>\n",
       "      <td>45.922570</td>\n",
       "      <td>89.552339</td>\n",
       "    </tr>\n",
       "    <tr>\n",
       "      <th>2</th>\n",
       "      <td>45.782069</td>\n",
       "      <td>92.152988</td>\n",
       "    </tr>\n",
       "    <tr>\n",
       "      <th>3</th>\n",
       "      <td>47.353700</td>\n",
       "      <td>92.327216</td>\n",
       "    </tr>\n",
       "    <tr>\n",
       "      <th>4</th>\n",
       "      <td>45.252126</td>\n",
       "      <td>91.047796</td>\n",
       "    </tr>\n",
       "    <tr>\n",
       "      <th>5</th>\n",
       "      <td>45.451738</td>\n",
       "      <td>92.129008</td>\n",
       "    </tr>\n",
       "    <tr>\n",
       "      <th>6</th>\n",
       "      <td>46.043500</td>\n",
       "      <td>90.982780</td>\n",
       "    </tr>\n",
       "    <tr>\n",
       "      <th>7</th>\n",
       "      <td>45.031750</td>\n",
       "      <td>91.115847</td>\n",
       "    </tr>\n",
       "    <tr>\n",
       "      <th>8</th>\n",
       "      <td>46.768959</td>\n",
       "      <td>91.329027</td>\n",
       "    </tr>\n",
       "    <tr>\n",
       "      <th>9</th>\n",
       "      <td>46.406629</td>\n",
       "      <td>91.930287</td>\n",
       "    </tr>\n",
       "    <tr>\n",
       "      <th>10</th>\n",
       "      <td>46.173562</td>\n",
       "      <td>91.240855</td>\n",
       "    </tr>\n",
       "    <tr>\n",
       "      <th>11</th>\n",
       "      <td>47.698807</td>\n",
       "      <td>91.831749</td>\n",
       "    </tr>\n",
       "    <tr>\n",
       "      <th>12</th>\n",
       "      <td>45.736381</td>\n",
       "      <td>89.407706</td>\n",
       "    </tr>\n",
       "    <tr>\n",
       "      <th>13</th>\n",
       "      <td>44.576544</td>\n",
       "      <td>89.092680</td>\n",
       "    </tr>\n",
       "    <tr>\n",
       "      <th>14</th>\n",
       "      <td>46.581242</td>\n",
       "      <td>89.428217</td>\n",
       "    </tr>\n",
       "    <tr>\n",
       "      <th>15</th>\n",
       "      <td>45.631651</td>\n",
       "      <td>90.637381</td>\n",
       "    </tr>\n",
       "    <tr>\n",
       "      <th>16</th>\n",
       "      <td>46.718648</td>\n",
       "      <td>92.958104</td>\n",
       "    </tr>\n",
       "    <tr>\n",
       "      <th>17</th>\n",
       "      <td>46.495202</td>\n",
       "      <td>92.307123</td>\n",
       "    </tr>\n",
       "    <tr>\n",
       "      <th>18</th>\n",
       "      <td>46.310266</td>\n",
       "      <td>92.765660</td>\n",
       "    </tr>\n",
       "    <tr>\n",
       "      <th>19</th>\n",
       "      <td>46.789958</td>\n",
       "      <td>89.658690</td>\n",
       "    </tr>\n",
       "    <tr>\n",
       "      <th>20</th>\n",
       "      <td>45.685848</td>\n",
       "      <td>90.781439</td>\n",
       "    </tr>\n",
       "    <tr>\n",
       "      <th>21</th>\n",
       "      <td>46.654307</td>\n",
       "      <td>91.743394</td>\n",
       "    </tr>\n",
       "    <tr>\n",
       "      <th>22</th>\n",
       "      <td>44.793693</td>\n",
       "      <td>90.715780</td>\n",
       "    </tr>\n",
       "    <tr>\n",
       "      <th>23</th>\n",
       "      <td>45.573832</td>\n",
       "      <td>93.588837</td>\n",
       "    </tr>\n",
       "    <tr>\n",
       "      <th>24</th>\n",
       "      <td>46.094761</td>\n",
       "      <td>92.091711</td>\n",
       "    </tr>\n",
       "    <tr>\n",
       "      <th>25</th>\n",
       "      <td>45.152099</td>\n",
       "      <td>90.904385</td>\n",
       "    </tr>\n",
       "    <tr>\n",
       "      <th>26</th>\n",
       "      <td>45.320464</td>\n",
       "      <td>91.251993</td>\n",
       "    </tr>\n",
       "    <tr>\n",
       "      <th>27</th>\n",
       "      <td>45.749627</td>\n",
       "      <td>90.891570</td>\n",
       "    </tr>\n",
       "    <tr>\n",
       "      <th>28</th>\n",
       "      <td>46.647232</td>\n",
       "      <td>91.267416</td>\n",
       "    </tr>\n",
       "    <tr>\n",
       "      <th>29</th>\n",
       "      <td>46.285920</td>\n",
       "      <td>92.741075</td>\n",
       "    </tr>\n",
       "  </tbody>\n",
       "</table>\n",
       "</div>"
      ],
      "text/plain": [
       "    Decision tree regressor  Dummy regressor\n",
       "0                 45.936790        90.606855\n",
       "1                 45.922570        89.552339\n",
       "2                 45.782069        92.152988\n",
       "3                 47.353700        92.327216\n",
       "4                 45.252126        91.047796\n",
       "5                 45.451738        92.129008\n",
       "6                 46.043500        90.982780\n",
       "7                 45.031750        91.115847\n",
       "8                 46.768959        91.329027\n",
       "9                 46.406629        91.930287\n",
       "10                46.173562        91.240855\n",
       "11                47.698807        91.831749\n",
       "12                45.736381        89.407706\n",
       "13                44.576544        89.092680\n",
       "14                46.581242        89.428217\n",
       "15                45.631651        90.637381\n",
       "16                46.718648        92.958104\n",
       "17                46.495202        92.307123\n",
       "18                46.310266        92.765660\n",
       "19                46.789958        89.658690\n",
       "20                45.685848        90.781439\n",
       "21                46.654307        91.743394\n",
       "22                44.793693        90.715780\n",
       "23                45.573832        93.588837\n",
       "24                46.094761        92.091711\n",
       "25                45.152099        90.904385\n",
       "26                45.320464        91.251993\n",
       "27                45.749627        90.891570\n",
       "28                46.647232        91.267416\n",
       "29                46.285920        92.741075"
      ]
     },
     "execution_count": 7,
     "metadata": {},
     "output_type": "execute_result"
    }
   ],
   "source": [
    "all_errors = pd.concat(\n",
    "    [errors_tree_regressor, errors_dummy_regressor],\n",
    "    axis=1,\n",
    ")\n",
    "all_errors"
   ]
  },
  {
   "cell_type": "code",
   "execution_count": 8,
   "metadata": {},
   "outputs": [
    {
     "data": {
      "image/png": "[encoded data removed]",
      "text/plain": [
       "<Figure size 432x288 with 1 Axes>"
      ]
     },
     "metadata": {
      "needs_background": "light"
     },
     "output_type": "display_data"
    }
   ],
   "source": [
    "import matplotlib.pyplot as plt\n",
    "import numpy as np\n",
    "\n",
    "bins = np.linspace(\n",
    "    start=0,\n",
    "    stop=100,\n",
    "    num=80\n",
    ")\n",
    "\n",
    "all_errors.plot.hist(\n",
    "    bins=bins,\n",
    "    edgecolor=\"black\"\n",
    ")\n",
    "\n",
    "plt.legend(bbox_to_anchor=(1.05, 0.8), loc=\"upper left\")\n",
    "\n",
    "plt.xlabel(\"Mean absolute error (k$)\")\n",
    "_ = plt.title(\"Cross-validation testing errors\")"
   ]
  },
  {
   "cell_type": "markdown",
   "metadata": {},
   "source": [
    "##### QUIZ 1\n",
    "\n",
    "**1. What the benefit of using cross-validation?**\n",
    "\n",
    "a) Give information about performance variability\n",
    "\n",
    "b) Remove the need to use a baseline algorithm\n",
    "\n",
    "c) Give information regarding under- or over-fitting of a model \n",
    "\n",
    "<br>\n",
    "\n",
    "**2. Does a dummy classifier or regressor rely on the input feature values in the input data X to make the predictions?**\n",
    "\n",
    "a) Yes \n",
    "\n",
    "b) No\n",
    "\n",
    "<br>\n",
    "\n",
    "**3. Does a dummy classifier from scikit-learn always make constant predictions whatever the chosen strategy?**\n",
    "\n",
    "a) Yes \n",
    "\n",
    "b) No\n",
    "\n",
    "\n",
    "<br>\n",
    "\n"
   ]
  },
  {
   "cell_type": "markdown",
   "metadata": {},
   "source": [
    "#### Choice of cross-validation \n",
    "\n",
    "In the previous notebooks, we always used either a default `KFold` or a `ShuffleSplit` cross-validation strategies to iteratively split our dataset. \n",
    "\n",
    "However, we should not assume that these approaches are always the best option: some other cross-validation strategies might be better adapted to your problem.\n",
    "\n",
    "We discuss the other strategies and scenarios where they can be helpful in this section."
   ]
  },
  {
   "cell_type": "markdown",
   "metadata": {},
   "source": [
    "\n",
    "**Stratification**\n",
    "\n",
    "We will start with the concept of Stratification by using an example of where we can get into trouble if we are not careful. \n",
    "\n",
    "We will load the iris dataset and create a basic machine-learning model: a logistic regression. \n",
    "\n",
    "We expect this model to work quite well on the iris dataset since this is a toy dataset.\n",
    "\n",
    "Once we have created our model, we will use the cross-validation framework to evaluate it. \n",
    "\n",
    "We will use the `KFold` cross-validation strategy. \n",
    "\n",
    "We will define a toy dataset with nine samples, repeat the cross-validation three times (i.e. `n_splits`), and use three samples for testing and six for training each time by defining three splits, As KFold` does not shuffle by default. It will select the three first samples for the testing set at the first split, then the three next for the second split, and the three next for the last split. All samples will be used in testing at least once among the different splits.\n",
    "\n",
    "After that, we apply the same `KFold` strategy to check the generalization performance of our model and get surprising results. We will observe that the target vector `target` is ordered and will have unexpected consequences when using the `KFold` cross-validation. \n",
    "\n",
    "We will show the class count in each cross-validation fold in the train and test set to illustrate the consequences. We will also compute the class counts for the training and testing sets using the `KFold` cross-validation and plot this information in a bar plot. We will iterate the given number of splits, check how many samples of each kind are present in the training and testing set, and store the information in two lists; one for the training set and one for the testing set.\n",
    "\n",
    "We will observe that neither the training nor testing sets have the same class frequencies as our original dataset because each class's count varies slightly, and thus we get the unexpected results. \n",
    "\n",
    "However, one might want to split our data by preserving the original class frequencies: we want to **stratify** our data by class. \n",
    "\n",
    "In scikit-learn, *some cross-validation strategies implement the Stratification*, and they contain `Stratified` in their names.\n",
    "\n",
    "Using stratified cross-validation, we will observe that the class counts are very close both in the train and test sets. The minuscule difference will be due to the small number of samples in the iris dataset.\n",
    "\n",
    "<br>\n",
    "\n",
    "**Lesson**\n",
    "\n",
    "*Using Stratification within the cross-validation framework is a good practice when dealing with a classification problem.*\n"
   ]
  },
  {
   "cell_type": "code",
   "execution_count": 9,
   "metadata": {},
   "outputs": [],
   "source": [
    "from sklearn.datasets import load_iris\n",
    "\n",
    "data, target = load_iris(\n",
    "    as_frame=True,\n",
    "    return_X_y=True\n",
    ")"
   ]
  },
  {
   "cell_type": "code",
   "execution_count": 10,
   "metadata": {},
   "outputs": [
    {
     "data": {
      "text/html": [
       "<style>#sk-container-id-3 {color: black;background-color: white;}#sk-container-id-3 pre{padding: 0;}#sk-container-id-3 div.sk-toggleable {background-color: white;}#sk-container-id-3 label.sk-toggleable__label {cursor: pointer;display: block;width: 100%;margin-bottom: 0;padding: 0.3em;box-sizing: border-box;text-align: center;}#sk-container-id-3 label.sk-toggleable__label-arrow:before {content: \"▸\";float: left;margin-right: 0.25em;color: #696969;}#sk-container-id-3 label.sk-toggleable__label-arrow:hover:before {color: black;}#sk-container-id-3 div.sk-estimator:hover label.sk-toggleable__label-arrow:before {color: black;}#sk-container-id-3 div.sk-toggleable__content {max-height: 0;max-width: 0;overflow: hidden;text-align: left;background-color: #f0f8ff;}#sk-container-id-3 div.sk-toggleable__content pre {margin: 0.2em;color: black;border-radius: 0.25em;background-color: #f0f8ff;}#sk-container-id-3 input.sk-toggleable__control:checked~div.sk-toggleable__content {max-height: 200px;max-width: 100%;overflow: auto;}#sk-container-id-3 input.sk-toggleable__control:checked~label.sk-toggleable__label-arrow:before {content: \"▾\";}#sk-container-id-3 div.sk-estimator input.sk-toggleable__control:checked~label.sk-toggleable__label {background-color: #d4ebff;}#sk-container-id-3 div.sk-label input.sk-toggleable__control:checked~label.sk-toggleable__label {background-color: #d4ebff;}#sk-container-id-3 input.sk-hidden--visually {border: 0;clip: rect(1px 1px 1px 1px);clip: rect(1px, 1px, 1px, 1px);height: 1px;margin: -1px;overflow: hidden;padding: 0;position: absolute;width: 1px;}#sk-container-id-3 div.sk-estimator {font-family: monospace;background-color: #f0f8ff;border: 1px dotted black;border-radius: 0.25em;box-sizing: border-box;margin-bottom: 0.5em;}#sk-container-id-3 div.sk-estimator:hover {background-color: #d4ebff;}#sk-container-id-3 div.sk-parallel-item::after {content: \"\";width: 100%;border-bottom: 1px solid gray;flex-grow: 1;}#sk-container-id-3 div.sk-label:hover label.sk-toggleable__label {background-color: #d4ebff;}#sk-container-id-3 div.sk-serial::before {content: \"\";position: absolute;border-left: 1px solid gray;box-sizing: border-box;top: 0;bottom: 0;left: 50%;z-index: 0;}#sk-container-id-3 div.sk-serial {display: flex;flex-direction: column;align-items: center;background-color: white;padding-right: 0.2em;padding-left: 0.2em;position: relative;}#sk-container-id-3 div.sk-item {position: relative;z-index: 1;}#sk-container-id-3 div.sk-parallel {display: flex;align-items: stretch;justify-content: center;background-color: white;position: relative;}#sk-container-id-3 div.sk-item::before, #sk-container-id-3 div.sk-parallel-item::before {content: \"\";position: absolute;border-left: 1px solid gray;box-sizing: border-box;top: 0;bottom: 0;left: 50%;z-index: -1;}#sk-container-id-3 div.sk-parallel-item {display: flex;flex-direction: column;z-index: 1;position: relative;background-color: white;}#sk-container-id-3 div.sk-parallel-item:first-child::after {align-self: flex-end;width: 50%;}#sk-container-id-3 div.sk-parallel-item:last-child::after {align-self: flex-start;width: 50%;}#sk-container-id-3 div.sk-parallel-item:only-child::after {width: 0;}#sk-container-id-3 div.sk-dashed-wrapped {border: 1px dashed gray;margin: 0 0.4em 0.5em 0.4em;box-sizing: border-box;padding-bottom: 0.4em;background-color: white;}#sk-container-id-3 div.sk-label label {font-family: monospace;font-weight: bold;display: inline-block;line-height: 1.2em;}#sk-container-id-3 div.sk-label-container {text-align: center;}#sk-container-id-3 div.sk-container {/* jupyter's `normalize.less` sets `[hidden] { display: none; }` but bootstrap.min.css set `[hidden] { display: none !important; }` so we also need the `!important` here to be able to override the default hidden behavior on the sphinx rendered scikit-learn.org. See: https://github.com/scikit-learn/scikit-learn/issues/21755 */display: inline-block !important;position: relative;}#sk-container-id-3 div.sk-text-repr-fallback {display: none;}</style><div id=\"sk-container-id-3\" class=\"sk-top-container\"><div class=\"sk-text-repr-fallback\"><pre>Pipeline(steps=[(&#x27;standardscaler&#x27;, StandardScaler()),\n",
       "                (&#x27;logisticregression&#x27;, LogisticRegression())])</pre><b>In a Jupyter environment, please rerun this cell to show the HTML representation or trust the notebook. <br />On GitHub, the HTML representation is unable to render, please try loading this page with nbviewer.org.</b></div><div class=\"sk-container\" hidden><div class=\"sk-item sk-dashed-wrapped\"><div class=\"sk-label-container\"><div class=\"sk-label sk-toggleable\"><input class=\"sk-toggleable__control sk-hidden--visually\" id=\"sk-estimator-id-3\" type=\"checkbox\" ><label for=\"sk-estimator-id-3\" class=\"sk-toggleable__label sk-toggleable__label-arrow\">Pipeline</label><div class=\"sk-toggleable__content\"><pre>Pipeline(steps=[(&#x27;standardscaler&#x27;, StandardScaler()),\n",
       "                (&#x27;logisticregression&#x27;, LogisticRegression())])</pre></div></div></div><div class=\"sk-serial\"><div class=\"sk-item\"><div class=\"sk-estimator sk-toggleable\"><input class=\"sk-toggleable__control sk-hidden--visually\" id=\"sk-estimator-id-4\" type=\"checkbox\" ><label for=\"sk-estimator-id-4\" class=\"sk-toggleable__label sk-toggleable__label-arrow\">StandardScaler</label><div class=\"sk-toggleable__content\"><pre>StandardScaler()</pre></div></div></div><div class=\"sk-item\"><div class=\"sk-estimator sk-toggleable\"><input class=\"sk-toggleable__control sk-hidden--visually\" id=\"sk-estimator-id-5\" type=\"checkbox\" ><label for=\"sk-estimator-id-5\" class=\"sk-toggleable__label sk-toggleable__label-arrow\">LogisticRegression</label><div class=\"sk-toggleable__content\"><pre>LogisticRegression()</pre></div></div></div></div></div></div></div>"
      ],
      "text/plain": [
       "Pipeline(steps=[('standardscaler', StandardScaler()),\n",
       "                ('logisticregression', LogisticRegression())])"
      ]
     },
     "execution_count": 10,
     "metadata": {},
     "output_type": "execute_result"
    }
   ],
   "source": [
    "from sklearn.preprocessing import StandardScaler\n",
    "from sklearn.linear_model import LogisticRegression\n",
    "from sklearn.pipeline import make_pipeline\n",
    "\n",
    "model = make_pipeline(\n",
    "    StandardScaler(),\n",
    "    LogisticRegression()\n",
    ")\n",
    "\n",
    "model\n"
   ]
  },
  {
   "cell_type": "code",
   "execution_count": 11,
   "metadata": {},
   "outputs": [
    {
     "name": "stdout",
     "output_type": "stream",
     "text": [
      "TRAIN: [3 4 5 6 7 8] TEST: [0 1 2]\n",
      "TRAIN: [0 1 2 6 7 8] TEST: [3 4 5]\n",
      "TRAIN: [0 1 2 3 4 5] TEST: [6 7 8]\n"
     ]
    }
   ],
   "source": [
    "\"\"\"\n",
    "Here we see how the KFold works internally, when we don't pass shuffle \n",
    "\"\"\"\n",
    "import numpy as np\n",
    "from sklearn.model_selection import KFold\n",
    "\n",
    "data_random = np.random.randn(9, 1)\n",
    "\n",
    "n_splits = 3\n",
    "\n",
    "cv = KFold(\n",
    "    n_splits=n_splits\n",
    ")\n",
    "\n",
    "for train_index, test_index in cv.split(data_random):\n",
    "    print(\"TRAIN:\", train_index, \"TEST:\", test_index)"
   ]
  },
  {
   "cell_type": "code",
   "execution_count": 12,
   "metadata": {},
   "outputs": [
    {
     "name": "stdout",
     "output_type": "stream",
     "text": [
      "The average accuracy is 0.000 +/- 0.000\n"
     ]
    }
   ],
   "source": [
    "from sklearn.model_selection import cross_validate\n",
    "\n",
    "cv = KFold(\n",
    "    n_splits=n_splits\n",
    ")\n",
    "\n",
    "results = cross_validate(\n",
    "    model,\n",
    "    data,\n",
    "    target,\n",
    "    cv=cv\n",
    ")\n",
    "\n",
    "test_score = results[\"test_score\"]\n",
    "\n",
    "\"\"\"\n",
    "It is a real surprise that our model cannot correctly classify any sample in\n",
    "any cross-validation split. \n",
    "We will now check our target's value to understand the issue.\n",
    "\"\"\"\n",
    "\n",
    "print(\n",
    "    f\"The average accuracy is \"\n",
    "      f\"{test_score.mean():.3f} +/- {test_score.std():.3f}\"\n",
    ")"
   ]
  },
  {
   "cell_type": "code",
   "execution_count": 13,
   "metadata": {},
   "outputs": [
    {
     "data": {
      "image/png": "[encoded data removed]",
      "text/plain": [
       "<Figure size 432x288 with 1 Axes>"
      ]
     },
     "metadata": {
      "needs_background": "light"
     },
     "output_type": "display_data"
    }
   ],
   "source": [
    "import matplotlib.pyplot as plt\n",
    "\n",
    "target.plot()\n",
    "plt.xlabel(\"Sample index\")\n",
    "plt.ylabel(\"Class\")\n",
    "plt.yticks(target.unique())\n",
    "_ = plt.title(\"Class value in target y\")"
   ]
  },
  {
   "cell_type": "code",
   "execution_count": 14,
   "metadata": {},
   "outputs": [],
   "source": [
    "import pandas as pd\n",
    "\n",
    "\n",
    "cv = KFold(\n",
    "    n_splits=n_splits\n",
    ")\n",
    "\n",
    "train_cv_counts = []\n",
    "test_cv_counts = []\n",
    "\n",
    "for fold_idx, (train_idx, test_idx) in enumerate(cv.split(data, target)):\n",
    "\n",
    "    target_train, target_test = target.iloc[train_idx], target.iloc[test_idx]\n",
    "\n",
    "    train_cv_counts.append(target_train.value_counts())\n",
    "    \n",
    "    test_cv_counts.append(target_test.value_counts())"
   ]
  },
  {
   "cell_type": "code",
   "execution_count": 15,
   "metadata": {},
   "outputs": [
    {
     "data": {
      "text/html": [
       "<div>\n",
       "<style scoped>\n",
       "    .dataframe tbody tr th:only-of-type {\n",
       "        vertical-align: middle;\n",
       "    }\n",
       "\n",
       "    .dataframe tbody tr th {\n",
       "        vertical-align: top;\n",
       "    }\n",
       "\n",
       "    .dataframe thead th {\n",
       "        text-align: right;\n",
       "    }\n",
       "</style>\n",
       "<table border=\"1\" class=\"dataframe\">\n",
       "  <thead>\n",
       "    <tr style=\"text-align: right;\">\n",
       "      <th></th>\n",
       "      <th>Fold #0</th>\n",
       "      <th>Fold #1</th>\n",
       "      <th>Fold #2</th>\n",
       "    </tr>\n",
       "    <tr>\n",
       "      <th>Class label</th>\n",
       "      <th></th>\n",
       "      <th></th>\n",
       "      <th></th>\n",
       "    </tr>\n",
       "  </thead>\n",
       "  <tbody>\n",
       "    <tr>\n",
       "      <th>1</th>\n",
       "      <td>50.0</td>\n",
       "      <td>NaN</td>\n",
       "      <td>50.0</td>\n",
       "    </tr>\n",
       "    <tr>\n",
       "      <th>2</th>\n",
       "      <td>50.0</td>\n",
       "      <td>50.0</td>\n",
       "      <td>NaN</td>\n",
       "    </tr>\n",
       "    <tr>\n",
       "      <th>0</th>\n",
       "      <td>NaN</td>\n",
       "      <td>50.0</td>\n",
       "      <td>50.0</td>\n",
       "    </tr>\n",
       "  </tbody>\n",
       "</table>\n",
       "</div>"
      ],
      "text/plain": [
       "             Fold #0  Fold #1  Fold #2\n",
       "Class label                           \n",
       "1               50.0      NaN     50.0\n",
       "2               50.0     50.0      NaN\n",
       "0                NaN     50.0     50.0"
      ]
     },
     "execution_count": 15,
     "metadata": {},
     "output_type": "execute_result"
    }
   ],
   "source": [
    "train_cv_counts = pd.concat(\n",
    "    train_cv_counts,\n",
    "    axis=1,\n",
    "    keys=[f\"Fold #{idx}\" for idx in range(n_splits)]\n",
    ")\n",
    "\n",
    "train_cv_counts.index.name = \"Class label\"\n",
    "\n",
    "train_cv_counts"
   ]
  },
  {
   "cell_type": "code",
   "execution_count": 16,
   "metadata": {},
   "outputs": [
    {
     "data": {
      "text/html": [
       "<div>\n",
       "<style scoped>\n",
       "    .dataframe tbody tr th:only-of-type {\n",
       "        vertical-align: middle;\n",
       "    }\n",
       "\n",
       "    .dataframe tbody tr th {\n",
       "        vertical-align: top;\n",
       "    }\n",
       "\n",
       "    .dataframe thead th {\n",
       "        text-align: right;\n",
       "    }\n",
       "</style>\n",
       "<table border=\"1\" class=\"dataframe\">\n",
       "  <thead>\n",
       "    <tr style=\"text-align: right;\">\n",
       "      <th></th>\n",
       "      <th>Fold #0</th>\n",
       "      <th>Fold #1</th>\n",
       "      <th>Fold #2</th>\n",
       "    </tr>\n",
       "    <tr>\n",
       "      <th>Class label</th>\n",
       "      <th></th>\n",
       "      <th></th>\n",
       "      <th></th>\n",
       "    </tr>\n",
       "  </thead>\n",
       "  <tbody>\n",
       "    <tr>\n",
       "      <th>0</th>\n",
       "      <td>50.0</td>\n",
       "      <td>NaN</td>\n",
       "      <td>NaN</td>\n",
       "    </tr>\n",
       "    <tr>\n",
       "      <th>1</th>\n",
       "      <td>NaN</td>\n",
       "      <td>50.0</td>\n",
       "      <td>NaN</td>\n",
       "    </tr>\n",
       "    <tr>\n",
       "      <th>2</th>\n",
       "      <td>NaN</td>\n",
       "      <td>NaN</td>\n",
       "      <td>50.0</td>\n",
       "    </tr>\n",
       "  </tbody>\n",
       "</table>\n",
       "</div>"
      ],
      "text/plain": [
       "             Fold #0  Fold #1  Fold #2\n",
       "Class label                           \n",
       "0               50.0      NaN      NaN\n",
       "1                NaN     50.0      NaN\n",
       "2                NaN      NaN     50.0"
      ]
     },
     "execution_count": 16,
     "metadata": {},
     "output_type": "execute_result"
    }
   ],
   "source": [
    "test_cv_counts = pd.concat(\n",
    "    test_cv_counts,\n",
    "    axis=1,\n",
    "    keys=[f\"Fold #{idx}\" for idx in range(n_splits)]\n",
    ")\n",
    "\n",
    "test_cv_counts.index.name = \"Class label\"\n",
    "\n",
    "test_cv_counts"
   ]
  },
  {
   "cell_type": "code",
   "execution_count": 17,
   "metadata": {},
   "outputs": [
    {
     "data": {
      "image/png": "[encoded data removed]",
      "text/plain": [
       "<Figure size 432x288 with 1 Axes>"
      ]
     },
     "metadata": {
      "needs_background": "light"
     },
     "output_type": "display_data"
    }
   ],
   "source": [
    "train_cv_counts.plot.bar()\n",
    "\n",
    "plt.legend(\n",
    "    bbox_to_anchor=(1.05, 0.8),\n",
    "    loc=\"upper left\"\n",
    ")\n",
    "\n",
    "plt.ylabel(\"Count\")\n",
    "\n",
    "_ = plt.title(\"Training set\")"
   ]
  },
  {
   "cell_type": "code",
   "execution_count": 18,
   "metadata": {},
   "outputs": [
    {
     "data": {
      "image/png": "[encoded data removed]",
      "text/plain": [
       "<Figure size 432x288 with 1 Axes>"
      ]
     },
     "metadata": {
      "needs_background": "light"
     },
     "output_type": "display_data"
    }
   ],
   "source": [
    "test_cv_counts.plot.bar()\n",
    "\n",
    "plt.legend(\n",
    "    bbox_to_anchor=(1.05, 0.8),\n",
    "    loc=\"upper left\"\n",
    ")\n",
    "\n",
    "plt.ylabel(\"Count\")\n",
    "\n",
    "_ = plt.title(\"Test set\")"
   ]
  },
  {
   "cell_type": "code",
   "execution_count": 19,
   "metadata": {},
   "outputs": [
    {
     "name": "stdout",
     "output_type": "stream",
     "text": [
      "The average accuracy is 0.960 +/- 0.016\n"
     ]
    }
   ],
   "source": [
    "from sklearn.model_selection import StratifiedKFold\n",
    "\n",
    "cv = StratifiedKFold(\n",
    "    n_splits=n_splits\n",
    ")\n",
    "\n",
    "results = cross_validate(\n",
    "    model,\n",
    "    data,\n",
    "    target,\n",
    "    cv=cv\n",
    ")\n",
    "\n",
    "test_score = results[\"test_score\"]\n",
    "\n",
    "print(\n",
    "    f\"The average accuracy is \"\n",
    "    f\"{test_score.mean():.3f} +/- {test_score.std():.3f}\"\n",
    ")"
   ]
  },
  {
   "cell_type": "code",
   "execution_count": 20,
   "metadata": {},
   "outputs": [],
   "source": [
    "train_cv_counts = []\n",
    "test_cv_counts = []\n",
    "\n",
    "for fold_idx, (train_idx, test_idx) in enumerate(cv.split(data, target)):\n",
    "    target_train, target_test = target.iloc[train_idx], target.iloc[test_idx]\n",
    "\n",
    "    train_cv_counts.append(target_train.value_counts())\n",
    "    test_cv_counts.append(target_test.value_counts())\n",
    "\n",
    "train_cv_counts = pd.concat(\n",
    "    train_cv_counts,\n",
    "    axis=1,\n",
    "    keys=[f\"Fold #{idx}\" for idx in range(n_splits)]\n",
    ")\n",
    "\n",
    "test_cv_counts = pd.concat(\n",
    "    test_cv_counts,\n",
    "    axis=1,\n",
    "    keys=[f\"Fold #{idx}\" for idx in range(n_splits)]\n",
    ")\n",
    "\n",
    "train_cv_counts.index.name = \"Class label\"\n",
    "test_cv_counts.index.name = \"Class label\""
   ]
  },
  {
   "cell_type": "code",
   "execution_count": 21,
   "metadata": {},
   "outputs": [
    {
     "data": {
      "image/png": "[encoded data removed]",
      "text/plain": [
       "<Figure size 432x288 with 1 Axes>"
      ]
     },
     "metadata": {
      "needs_background": "light"
     },
     "output_type": "display_data"
    }
   ],
   "source": [
    "train_cv_counts.plot.bar()\n",
    "\n",
    "plt.legend(\n",
    "    bbox_to_anchor=(1.05, 0.8),\n",
    "    loc=\"upper left\"\n",
    ")\n",
    "\n",
    "plt.ylabel(\"Count\")\n",
    "_ = plt.title(\"Training set\")"
   ]
  },
  {
   "cell_type": "code",
   "execution_count": 22,
   "metadata": {},
   "outputs": [
    {
     "data": {
      "image/png": "[encoded data removed]",
      "text/plain": [
       "<Figure size 432x288 with 1 Axes>"
      ]
     },
     "metadata": {
      "needs_background": "light"
     },
     "output_type": "display_data"
    }
   ],
   "source": [
    "test_cv_counts.plot.bar()\n",
    "\n",
    "plt.legend(\n",
    "    bbox_to_anchor=(1.05, 0.8),\n",
    "    loc=\"upper left\"\n",
    ")\n",
    "\n",
    "plt.ylabel(\"Count\")\n",
    "_ = plt.title(\"Test set\")"
   ]
  },
  {
   "cell_type": "markdown",
   "metadata": {},
   "source": [
    "**Sample grouping**\n",
    "\n",
    "We will linger into the concept of sample groups and use the handwritten digits dataset.\n",
    "\n",
    "We will recreate the same model used in the previous section, a logistic regression classifier, but with a different preprocessor, i.e., MinMaxScaler, to scale the data.\n",
    "\n",
    "We will use a `KFold` cross-validation without shuffling the data at first.\n",
    "\n",
    "After that, we will repeat the experiment by shuffling the data within the\n",
    "cross-validation. We will observe that shuffling the data improves the mean accuracy.\n",
    "\n",
    "We will then plot the distribution of the testing score and observe that the cross-validation testing error that uses the shuffling has less variance than the one that does not impose any shuffling. In case of no shuffling, some specific fold leads to a low score. Thus, the data has an underlying structure that shuffling will break and get better results. \n",
    "\n",
    "<br>\n",
    "\n",
    "When we dig in the documentation shipped with the dataset and read carefully, we will find that 13 writers wrote the digits of our dataset, accounting for 1797 samples. Thus, a writer wrote several times the same numbers. \n",
    "\n",
    "Let's suppose that the same writer's samples are grouped. Mixing the data will break this structure; therefore, digits written by the same writer will be available in both the training and testing sets. Subsequently, not shuffling the data will keep all writer samples together either in the training or the testing sets.\n",
    "\n",
    "Besides, a writer usually tends to write digits similarly. Thus, our model will learn to identify a writer's pattern for each digit instead of recognizing it.\n",
    "\n",
    "\n",
    "We can solve this problem by ensuring that the data associated with a writer should either belong to the training or the testing set. Thus, we want to group samples for each writer. Indeed, we can recover the groups by looking at the target variable.\n",
    "\n",
    "<br>\n",
    "\n",
    "It might not be evident at first, but there is a structure in the target: there is a repetitive pattern that always starts with some series of ordered digits from 0 to 9, followed by random digits at a certain point. \n",
    "\n",
    "If we look in detail, we see that there are 14 such patterns, always with around 130 samples each.\n",
    "\n",
    "Even if it does not correspond precisely to the 13 writers in the documentation (maybe one writer wrote two series of digits), we can hypothesize that each pattern corresponds to a different writer and thus a different group.\n",
    "\n",
    "<br>\n",
    "\n",
    "Once we group the digits by writer, we can use cross-validation to take this information into account: the class containing `Group` should be used.\n",
    "\n",
    "We see that this strategy is less optimistic regarding the model generalization performance. However, this is the most reliable if we aim to make handwritten digits recognition writers independent. \n",
    "\n",
    "<br>\n",
    "\n",
    "**Lesson**\n",
    "\n",
    "*It is essential to consider any sample grouping pattern when evaluating a model. Otherwise, the results obtained will be over-optimistic regarding reality.*"
   ]
  },
  {
   "cell_type": "code",
   "execution_count": 23,
   "metadata": {},
   "outputs": [],
   "source": [
    "from sklearn.datasets import load_digits\n",
    "\n",
    "digits = load_digits()\n",
    "\n",
    "data, target = digits.data, digits.target\n",
    "\n"
   ]
  },
  {
   "cell_type": "code",
   "execution_count": 24,
   "metadata": {},
   "outputs": [
    {
     "data": {
      "text/plain": [
       "(1797, 64)"
      ]
     },
     "execution_count": 24,
     "metadata": {},
     "output_type": "execute_result"
    }
   ],
   "source": [
    "data.shape"
   ]
  },
  {
   "cell_type": "code",
   "execution_count": 25,
   "metadata": {},
   "outputs": [
    {
     "data": {
      "text/plain": [
       "(1797,)"
      ]
     },
     "execution_count": 25,
     "metadata": {},
     "output_type": "execute_result"
    }
   ],
   "source": [
    "target.shape"
   ]
  },
  {
   "cell_type": "code",
   "execution_count": 26,
   "metadata": {},
   "outputs": [],
   "source": [
    "from sklearn.preprocessing import MinMaxScaler\n",
    "from sklearn.linear_model import LogisticRegression\n",
    "from sklearn.pipeline import make_pipeline\n",
    "\n",
    "\"\"\"\n",
    "MinMaxScaler\n",
    "This estimator scales and translates each feature individually such\n",
    "that it is in the given range on the training set, e.g. between\n",
    "zero and one.\n",
    "\n",
    "The transformation is given by::\n",
    "\n",
    "    X_std = (X - X.min(axis=0)) / (X.max(axis=0) - X.min(axis=0))\n",
    "    X_scaled = X_std * (max - min) + min\n",
    "\n",
    "where min, max = feature_range.\n",
    "\n",
    "This transformation is often used as an alternative to zero mean,\n",
    "unit variance scaling.\n",
    "\"\"\"\n",
    "model = make_pipeline(\n",
    "    MinMaxScaler(),\n",
    "    LogisticRegression(max_iter=1_000)\n",
    ")\n"
   ]
  },
  {
   "cell_type": "code",
   "execution_count": 27,
   "metadata": {},
   "outputs": [
    {
     "name": "stdout",
     "output_type": "stream",
     "text": [
      "The average accuracy is 0.931 +/- 0.026\n"
     ]
    }
   ],
   "source": [
    "from sklearn.model_selection import cross_val_score, KFold\n",
    "\n",
    "cv = KFold(\n",
    "    shuffle=False\n",
    ")\n",
    "\n",
    "test_score_no_shuffling = cross_val_score(\n",
    "    model,\n",
    "    data,\n",
    "    target,\n",
    "    cv=cv,\n",
    "    n_jobs=2\n",
    ")\n",
    "\n",
    "print(\n",
    "    f\"The average accuracy is \"\n",
    "    f\"{test_score_no_shuffling.mean():.3f} +/- \"\n",
    "    f\"{test_score_no_shuffling.std():.3f}\"\n",
    ")\n"
   ]
  },
  {
   "cell_type": "code",
   "execution_count": 28,
   "metadata": {},
   "outputs": [
    {
     "name": "stdout",
     "output_type": "stream",
     "text": [
      "The average accuracy is 0.962 +/- 0.011\n"
     ]
    }
   ],
   "source": [
    "cv = KFold(\n",
    "    shuffle=True,\n",
    "    random_state=42\n",
    ")\n",
    "\n",
    "test_score_with_shuffling = cross_val_score(\n",
    "    model,\n",
    "    data,\n",
    "    target,\n",
    "    cv=cv,\n",
    "    n_jobs=2\n",
    ")\n",
    "\n",
    "print(\n",
    "    f\"The average accuracy is \"\n",
    "    f\"{test_score_with_shuffling.mean():.3f} +/- \"\n",
    "    f\"{test_score_with_shuffling.std():.3f}\"\n",
    ")\n"
   ]
  },
  {
   "cell_type": "code",
   "execution_count": 29,
   "metadata": {},
   "outputs": [
    {
     "data": {
      "image/png": "[encoded data removed]",
      "text/plain": [
       "<Figure size 432x288 with 1 Axes>"
      ]
     },
     "metadata": {
      "needs_background": "light"
     },
     "output_type": "display_data"
    }
   ],
   "source": [
    "import pandas as pd\n",
    "import matplotlib.pyplot as plt\n",
    "\n",
    "all_scores = pd.DataFrame(\n",
    "    [test_score_no_shuffling, test_score_with_shuffling],\n",
    "    index=[\"KFold without shuffling\", \"KFold with shuffling\"],\n",
    ").T\n",
    "\n",
    "\n",
    "all_scores.plot.hist(\n",
    "    bins=10,\n",
    "    edgecolor=\"black\",\n",
    "    alpha=0.7\n",
    ")\n",
    "\n",
    "plt.xlim([0.8, 1.0])\n",
    "plt.xlabel(\"Accuracy score\")\n",
    "plt.legend(\n",
    "    bbox_to_anchor=(1.05, 0.8),\n",
    "    loc=\"upper left\"\n",
    ")\n",
    "\n",
    "_ = plt.title(\"Distribution of the test scores\")"
   ]
  },
  {
   "cell_type": "code",
   "execution_count": 30,
   "metadata": {},
   "outputs": [
    {
     "name": "stdout",
     "output_type": "stream",
     "text": [
      "[0.94166667 0.89722222 0.94986072 0.9637883  0.90250696]\n",
      "[0.96666667 0.97777778 0.96100279 0.96100279 0.94428969]\n"
     ]
    }
   ],
   "source": [
    "print(test_score_no_shuffling)\n",
    "print(test_score_with_shuffling)\n"
   ]
  },
  {
   "cell_type": "code",
   "execution_count": 31,
   "metadata": {},
   "outputs": [
    {
     "name": "stdout",
     "output_type": "stream",
     "text": [
      ".. _digits_dataset:\n",
      "\n",
      "Optical recognition of handwritten digits dataset\n",
      "--------------------------------------------------\n",
      "\n",
      "**Data Set Characteristics:**\n",
      "\n",
      "    :Number of Instances: 1797\n",
      "    :Number of Attributes: 64\n",
      "    :Attribute Information: 8x8 image of integer pixels in the range 0..16.\n",
      "    :Missing Attribute Values: None\n",
      "    :Creator: E. Alpaydin (alpaydin '@' boun.edu.tr)\n",
      "    :Date: July; 1998\n",
      "\n",
      "This is a copy of the test set of the UCI ML hand-written digits datasets\n",
      "https://archive.ics.uci.edu/ml/datasets/Optical+Recognition+of+Handwritten+Digits\n",
      "\n",
      "The data set contains images of hand-written digits: 10 classes where\n",
      "each class refers to a digit.\n",
      "\n",
      "Preprocessing programs made available by NIST were used to extract\n",
      "normalized bitmaps of handwritten digits from a preprinted form. From a\n",
      "total of 43 people, 30 contributed to the training set and different 13\n",
      "to the test set. 32x32 bitmaps are divided into nonoverlapping blocks of\n",
      "4x4 and the number of on pixels are counted in each block. This generates\n",
      "an input matrix of 8x8 where each element is an integer in the range\n",
      "0..16. This reduces dimensionality and gives invariance to small\n",
      "distortions.\n",
      "\n",
      "For info on NIST preprocessing routines, see M. D. Garris, J. L. Blue, G.\n",
      "T. Candela, D. L. Dimmick, J. Geist, P. J. Grother, S. A. Janet, and C.\n",
      "L. Wilson, NIST Form-Based Handprint Recognition System, NISTIR 5469,\n",
      "1994.\n",
      "\n",
      ".. topic:: References\n",
      "\n",
      "  - C. Kaynak (1995) Methods of Combining Multiple Classifiers and Their\n",
      "    Applications to Handwritten Digit Recognition, MSc Thesis, Institute of\n",
      "    Graduate Studies in Science and Engineering, Bogazici University.\n",
      "  - E. Alpaydin, C. Kaynak (1998) Cascading Classifiers, Kybernetika.\n",
      "  - Ken Tang and Ponnuthurai N. Suganthan and Xi Yao and A. Kai Qin.\n",
      "    Linear dimensionalityreduction using relevance weighted LDA. School of\n",
      "    Electrical and Electronic Engineering Nanyang Technological University.\n",
      "    2005.\n",
      "  - Claudio Gentile. A New Approximate Maximal Margin Classification\n",
      "    Algorithm. NIPS. 2000.\n",
      "\n"
     ]
    }
   ],
   "source": [
    "\n",
    "print(digits.DESCR)"
   ]
  },
  {
   "cell_type": "code",
   "execution_count": 32,
   "metadata": {},
   "outputs": [
    {
     "data": {
      "text/plain": [
       "array([0, 1, 2, 3, 4, 5, 6, 7, 8, 9, 0, 1, 2, 3, 4, 5, 6, 7, 8, 9, 0, 1,\n",
       "       2, 3, 4, 5, 6, 7, 8, 9, 0, 9, 5, 5, 6, 5, 0, 9, 8, 9, 8, 4, 1, 7,\n",
       "       7, 3, 5, 1, 0, 0, 2, 2, 7, 8, 2, 0, 1, 2, 6, 3, 3, 7, 3, 3, 4, 6,\n",
       "       6, 6, 4, 9, 1, 5, 0, 9, 5, 2, 8, 2, 0, 0, 1, 7, 6, 3, 2, 1, 7, 4,\n",
       "       6, 3, 1, 3, 9, 1, 7, 6, 8, 4, 3, 1, 4, 0, 5, 3, 6, 9, 6, 1, 7, 5,\n",
       "       4, 4, 7, 2, 8, 2, 2, 5, 7, 9, 5, 4, 8, 8, 4, 9, 0, 8, 9, 8])"
      ]
     },
     "execution_count": 32,
     "metadata": {},
     "output_type": "execute_result"
    }
   ],
   "source": [
    "target[:130]"
   ]
  },
  {
   "cell_type": "code",
   "execution_count": 33,
   "metadata": {},
   "outputs": [
    {
     "data": {
      "text/plain": [
       "array([0, 1, 2, 3, 4, 5, 6, 7, 8, 9, 0, 1, 2, 3, 4, 5, 6, 7, 8, 9, 0, 1,\n",
       "       2, 3, 4, 5, 6, 7, 8, 9, 0, 9, 5, 5, 6, 5, 0, 9, 8, 9, 8, 4, 1, 7,\n",
       "       7, 3, 5, 1, 0, 0, 2, 2, 7, 8, 2, 0, 1, 2, 6, 3, 3, 7, 3, 3, 4, 6,\n",
       "       6, 6, 4, 9, 1, 5, 0, 9, 5, 2, 8, 2, 0, 0, 1, 7, 6, 3, 2, 1, 7, 3,\n",
       "       1, 3, 9, 1, 7, 6, 8, 4, 3, 1, 4, 0, 5, 3, 6, 9, 6, 1, 7, 5, 4, 4,\n",
       "       7, 2, 8, 2, 2, 5, 5, 4, 8, 8, 4, 9, 0, 8, 9, 8])"
      ]
     },
     "execution_count": 33,
     "metadata": {},
     "output_type": "execute_result"
    }
   ],
   "source": [
    "target[130:256]"
   ]
  },
  {
   "cell_type": "code",
   "execution_count": 34,
   "metadata": {},
   "outputs": [],
   "source": [
    "from itertools import count\n",
    "import numpy as np\n",
    "\n",
    "# defines the lower and upper bounds of sample indices\n",
    "# for each writer\n",
    "writer_boundaries = [\n",
    "    0, 130, 256, 386, 516, 646, 776, 915, 1029,\n",
    "    1157, 1287, 1415, 1545, 1667, 1797\n",
    "]\n",
    "\n",
    "groups = np.zeros_like(target)\n",
    "\n",
    "lower_bounds = writer_boundaries[:-1]\n",
    "upper_bounds = writer_boundaries[1:]\n",
    "\n",
    "for group_id, lb, up in zip(count(), lower_bounds, upper_bounds):\n",
    "    groups[lb:up] = group_id"
   ]
  },
  {
   "cell_type": "code",
   "execution_count": 35,
   "metadata": {},
   "outputs": [
    {
     "data": {
      "image/png": "[encoded data removed]",
      "text/plain": [
       "<Figure size 432x288 with 1 Axes>"
      ]
     },
     "metadata": {
      "needs_background": "light"
     },
     "output_type": "display_data"
    }
   ],
   "source": [
    "plt.plot(groups)\n",
    "plt.yticks(np.unique(groups))\n",
    "plt.xticks(writer_boundaries, rotation=90)\n",
    "plt.xlabel(\"Target index\")\n",
    "plt.ylabel(\"Writer index\")\n",
    "_ = plt.title(\"Underlying writer groups existing in the target\")"
   ]
  },
  {
   "cell_type": "code",
   "execution_count": 36,
   "metadata": {},
   "outputs": [
    {
     "name": "stdout",
     "output_type": "stream",
     "text": [
      "The average accuracy is 0.920 +/- 0.021\n"
     ]
    }
   ],
   "source": [
    "from sklearn.model_selection import GroupKFold\n",
    "\n",
    "\"\"\"\n",
    "K-fold iterator variant with non-overlapping groups.\n",
    "\n",
    "The same group will not appear in two different folds (the number of\n",
    "distinct groups has to be at least equal to the number of folds).\n",
    "\n",
    "The folds are approximately balanced in the sense that the number of\n",
    "distinct groups is approximately the same in each fold.\n",
    "\"\"\"\n",
    "cv = GroupKFold()\n",
    "\n",
    "test_score = cross_val_score(\n",
    "    model,\n",
    "    data,\n",
    "    target,\n",
    "    groups=groups,\n",
    "    cv=cv,\n",
    "    n_jobs=2\n",
    ")\n",
    "\n",
    "\"\"\"\n",
    "we can see that the standard deviation is reduced.\n",
    "\"\"\"\n",
    "print(\n",
    "    f\"The average accuracy is \"\n",
    "    f\"{test_score.mean():.3f} +/- \"\n",
    "    f\"{test_score.std():.3f}\"\n",
    ")"
   ]
  },
  {
   "cell_type": "code",
   "execution_count": 37,
   "metadata": {},
   "outputs": [],
   "source": [
    "all_scores = pd.DataFrame(\n",
    "    [test_score_no_shuffling, test_score_with_shuffling, test_score],\n",
    "    index=[\n",
    "        \"KFold without shuffling\",\n",
    "        \"KFold with shuffling\",\n",
    "        \"KFold with groups\"\n",
    "    ],\n",
    ").T"
   ]
  },
  {
   "cell_type": "code",
   "execution_count": 38,
   "metadata": {},
   "outputs": [
    {
     "data": {
      "image/png": "[encoded data removed]",
      "text/plain": [
       "<Figure size 432x288 with 1 Axes>"
      ]
     },
     "metadata": {
      "needs_background": "light"
     },
     "output_type": "display_data"
    }
   ],
   "source": [
    "all_scores.plot.hist(\n",
    "    bins=10,\n",
    "    edgecolor=\"black\",\n",
    "    alpha=0.7\n",
    ")\n",
    "\n",
    "plt.xlim([0.8, 1.0])\n",
    "plt.xlabel(\"Accuracy score\")\n",
    "\n",
    "plt.legend(\n",
    "    bbox_to_anchor=(1.05, 0.8),\n",
    "    loc=\"upper left\"\n",
    ")\n",
    "\n",
    "_ = plt.title(\"Distribution of the test scores\")"
   ]
  },
  {
   "cell_type": "markdown",
   "metadata": {},
   "source": [
    "##### Non i.i.d. data\n",
    "\n",
    "In machine learning, it is common to assume that the data are i.i.d, i.e. \"independent and identically distributed\" (independent and identically distributed random variables). \n",
    "\n",
    "*In simple terms, the generative process does not have any memory of past samples to generate new ones.*\n",
    "\n",
    "**This assumption of independence is usually violated when dealing with time-series data**, where the sample depends on past information - like stock market data.\n",
    "\n",
    "<br>\n",
    "\n",
    "We will use financial quotations from some energy companies to demonstrate how to work with non-i.i.d data. We use financial data for  \"Total\", \"Exxon\", \"Chevron\", \"ConocoPhillips\", and \"Valero Energy\". \n",
    "\n",
    "Here our goal is to predict the quotation of Chevron using all other energy companies' quotes. \n",
    "\n",
    "We will start by plotting the financial quotations for these companies to see how they have a relation in variation and also has a time series component.\n",
    "\n",
    "We first use a train-test split and then evaluate other cross-validation methods.\n",
    "\n",
    "We will **use a decision tree regressor that we expect to overfit and thus not generalize to unseen data** and then use ShuffleSplit cross-validation to check the generalization performance of our model.\n",
    "\n",
    "We previously mentioned that ShuffleSplit is an iterative cross-validation scheme that shuffles data and then splits the data. \n",
    "\n",
    "This step breaks any \"time series\" pattern in the data, but surprisingly, we get outstanding generalization performance. \n",
    "\n",
    "Thus we will investigate the reason for such good results with a model we expected to fail. \n",
    "\n",
    "<br>\n",
    "\n",
    "We will simplify this procedure with a single split and plot the prediction. We will use train_test_split for this purpose and check the generalization performance of our model on this split.\n",
    "\n",
    "We will again obtain good results in terms of $R^2$. \n",
    "\n",
    "<br>\n",
    "\n",
    "We will plot the training, testing, and prediction samples and notice that the model predictions follow the testing. But we can also see that the testing samples are next to some training samples. \n",
    "\n",
    "And with the given time series, we see a relationship between the sample at the time t and a sample at time t+1. \n",
    "\n",
    "In this case, we are violating the i.i.d. assumption. \n",
    "\n",
    "The insight is that a model can output its training set at the time t for a testing sample at the time t+1. \n",
    "\n",
    "*This prediction would be close to the true value even if our model did not learn anything but just memorized the training dataset.*\n",
    "\n",
    "<br>\n",
    "\n",
    "An easy way to verify this hypothesis is not to shuffle the data when doing the split. In this case, we will use the first 75% of the data to train and the remaining data to test. \n",
    "\n",
    "\n",
    "We will see that our model is not magical anymore. Indeed, it performs worse than just predicting the mean of the target. We can visually check what we are predicting.\n",
    "\n",
    "We observe that our model cannot predict anything because it doesn't have samples around the testing sample. \n",
    "\n",
    "<br>\n",
    "\n",
    "**How could we have made a proper cross-validation scheme to get a reasonable generalization performance estimate?**\n",
    "\n",
    "* One solution would be to group the samples into time blocks, e.g., by quarter, and to predict each group's information using information from the other groups. \n",
    "\n",
    "    We can use the LeaveOneGroupOut cross-validation for this purpose and see that we cannot make good predictions, which is less surprising than our original results.\n",
    "\n",
    "\n",
    "*   Another thing to consider is the actual application of our solution. \n",
    "\n",
    "    If our model is aimed at forecasting (i.e., predicting future data from past data), **we should not use training data that are ulterior to the testing data**. In this case, we can use the `TimeSeriesSplit` cross-validation to enforce this behavior.\n",
    "\n",
    "<br>\n",
    "\n",
    "**Lesson**\n",
    "\n",
    "It is essential not to use an out-of-the-shelves cross-validation strategy that does not respect some assumptions, such as having i.i.d data. It might lead to absurd results, which could make think that a predictive model might work.\n"
   ]
  },
  {
   "cell_type": "code",
   "execution_count": 39,
   "metadata": {},
   "outputs": [],
   "source": [
    "import pandas as pd\n",
    "\n",
    "symbols = {\n",
    "    \"TOT\": \"Total\",\n",
    "    \"XOM\": \"Exxon\",\n",
    "    \"CVX\": \"Chevron\",\n",
    "    \"COP\": \"ConocoPhillips\",\n",
    "    \"VLO\": \"Valero Energy\"\n",
    "}\n",
    "\n",
    "template_name = (\"../datasets/FD/{}.csv\")\n",
    "\n",
    "quotes = {}\n",
    "for symbol in symbols:\n",
    "    data = pd.read_csv(\n",
    "        template_name.format(symbol), index_col=0, parse_dates=True\n",
    "    )\n",
    "    quotes[symbols[symbol]] = data[\"open\"]\n",
    "quotes = pd.DataFrame(quotes)"
   ]
  },
  {
   "cell_type": "code",
   "execution_count": 40,
   "metadata": {},
   "outputs": [
    {
     "data": {
      "image/png": "[encoded data removed]",
      "text/plain": [
       "<Figure size 432x288 with 1 Axes>"
      ]
     },
     "metadata": {
      "needs_background": "light"
     },
     "output_type": "display_data"
    }
   ],
   "source": [
    "import matplotlib.pyplot as plt\n",
    "\n",
    "quotes.plot()\n",
    "plt.ylabel(\"Quote value\")\n",
    "\n",
    "plt.legend(\n",
    "    bbox_to_anchor=(1.05, 0.8),\n",
    "    loc=\"upper left\"\n",
    ")\n",
    "\n",
    "_ = plt.title(\"Stock values over time\")"
   ]
  },
  {
   "cell_type": "code",
   "execution_count": 41,
   "metadata": {},
   "outputs": [],
   "source": [
    "from sklearn.model_selection import train_test_split\n",
    "\n",
    "data, target = quotes.drop(columns=[\"Chevron\"]),quotes[\"Chevron\"]\n",
    "\n",
    "data_train, data_test, target_train, target_test = train_test_split(\n",
    "    data,\n",
    "    target,\n",
    "    shuffle=True,\n",
    "    random_state=42\n",
    ")"
   ]
  },
  {
   "cell_type": "code",
   "execution_count": 42,
   "metadata": {},
   "outputs": [
    {
     "name": "stdout",
     "output_type": "stream",
     "text": [
      "The mean R2 is: 0.96 +/- 0.07\n"
     ]
    }
   ],
   "source": [
    "from sklearn.tree import DecisionTreeRegressor\n",
    "from sklearn.model_selection import cross_val_score\n",
    "from sklearn.model_selection import ShuffleSplit\n",
    "\n",
    "regressor = DecisionTreeRegressor()\n",
    "\n",
    "cv = ShuffleSplit(\n",
    "      random_state=42\n",
    ")\n",
    "\n",
    "test_score = cross_val_score(\n",
    "      regressor,\n",
    "      data_train,\n",
    "      target_train,\n",
    "      cv=cv,\n",
    "      n_jobs=2\n",
    ")\n",
    "\n",
    "print(\n",
    "      f\"The mean R2 is: \"\n",
    "      f\"{test_score.mean():.2f} +/- {test_score.std():.2f}\"\n",
    ")\n"
   ]
  },
  {
   "cell_type": "code",
   "execution_count": 43,
   "metadata": {},
   "outputs": [],
   "source": [
    "regressor.fit(\n",
    "    data_train,\n",
    "    target_train\n",
    ")\n",
    "\n",
    "target_predicted = regressor.predict(data_test)\n",
    "\n",
    "# Affect the index of `target_predicted` to ease the plotting\n",
    "target_predicted = pd.Series(target_predicted, index=target_test.index)"
   ]
  },
  {
   "cell_type": "code",
   "execution_count": 44,
   "metadata": {},
   "outputs": [
    {
     "name": "stdout",
     "output_type": "stream",
     "text": [
      "The R2 on this single split is: 0.85\n"
     ]
    }
   ],
   "source": [
    "from sklearn.metrics import r2_score\n",
    "\n",
    "test_score = r2_score(\n",
    "    target_test,\n",
    "    target_predicted\n",
    ")\n",
    "\n",
    "print(\n",
    "    f\"The R2 on this single split is: {test_score:.2f}\"\n",
    ")"
   ]
  },
  {
   "cell_type": "code",
   "execution_count": 45,
   "metadata": {},
   "outputs": [
    {
     "data": {
      "image/png": "[encoded data removed]",
      "text/plain": [
       "<Figure size 432x288 with 1 Axes>"
      ]
     },
     "metadata": {
      "needs_background": "light"
     },
     "output_type": "display_data"
    }
   ],
   "source": [
    "target_train.plot(label=\"Training\")\n",
    "\n",
    "target_test.plot(label=\"Testing\")\n",
    "\n",
    "target_predicted.plot(label=\"Prediction\")\n",
    "\n",
    "plt.ylabel(\"Quote value\")\n",
    "\n",
    "plt.legend(\n",
    "    bbox_to_anchor=(1.05, 0.8),\n",
    "    loc=\"upper left\"\n",
    ")\n",
    "\n",
    "_ = plt.title(\"Model predictions using a ShuffleSplit strategy\")"
   ]
  },
  {
   "cell_type": "code",
   "execution_count": 46,
   "metadata": {},
   "outputs": [
    {
     "name": "stdout",
     "output_type": "stream",
     "text": [
      "The R2 on this single split is: -2.38\n"
     ]
    }
   ],
   "source": [
    "data_train, data_test, target_train, target_test = train_test_split(\n",
    "    data,\n",
    "    target,\n",
    "    shuffle=False,\n",
    "    random_state=42,\n",
    ")\n",
    "\n",
    "regressor.fit(\n",
    "    data_train,\n",
    "    target_train\n",
    ")\n",
    "\n",
    "target_predicted = regressor.predict(\n",
    "    data_test\n",
    ")\n",
    "\n",
    "target_predicted = pd.Series(\n",
    "    target_predicted,\n",
    "    index=target_test.index\n",
    ")\n",
    "\n",
    "test_score = r2_score(\n",
    "    target_test,\n",
    "    target_predicted\n",
    ")\n",
    "\n",
    "print(f\"The R2 on this single split is: {test_score:.2f}\")"
   ]
  },
  {
   "cell_type": "code",
   "execution_count": 47,
   "metadata": {},
   "outputs": [
    {
     "data": {
      "image/png": "[encoded data removed]",
      "text/plain": [
       "<Figure size 432x288 with 1 Axes>"
      ]
     },
     "metadata": {
      "needs_background": "light"
     },
     "output_type": "display_data"
    }
   ],
   "source": [
    "target_train.plot(label=\"Training\")\n",
    "target_test.plot(label=\"Testing\")\n",
    "target_predicted.plot(label=\"Prediction\")\n",
    "\n",
    "plt.ylabel(\"Quote value\")\n",
    "\n",
    "plt.legend(\n",
    "    bbox_to_anchor=(1.05, 0.8),\n",
    "    loc=\"upper left\"\n",
    ")\n",
    "\n",
    "_ = plt.title(\"Model predictions using a split without shuffling\")"
   ]
  },
  {
   "cell_type": "code",
   "execution_count": 48,
   "metadata": {},
   "outputs": [
    {
     "name": "stdout",
     "output_type": "stream",
     "text": [
      "The mean R2 is: -0.80 +/- 1.60\n"
     ]
    }
   ],
   "source": [
    "from sklearn.model_selection import LeaveOneGroupOut\n",
    "\n",
    "groups = quotes.index.to_period(\"Q\")\n",
    "\n",
    "\"\"\"\n",
    "Leave One Group Out cross-validator\n",
    "\n",
    "Provides train/test indices to split data according to a third-party\n",
    "provided group. This group information can be used to encode arbitrary\n",
    "domain specific stratifications of the samples as integers.\n",
    "\n",
    "For instance the groups could be the year of collection of the samples\n",
    "and thus allow for cross-validation against time-based splits.\n",
    "\"\"\"\n",
    "cv = LeaveOneGroupOut()\n",
    "\n",
    "test_score = cross_val_score(\n",
    "      regressor,\n",
    "      data,\n",
    "      target,\n",
    "      cv=cv,\n",
    "      groups=groups,\n",
    "      n_jobs=2\n",
    ")\n",
    "\n",
    "print(\n",
    "      f\"The mean R2 is: \"\n",
    "      f\"{test_score.mean():.2f} +/- {test_score.std():.2f}\"\n",
    ")\n"
   ]
  },
  {
   "cell_type": "code",
   "execution_count": 49,
   "metadata": {},
   "outputs": [
    {
     "name": "stdout",
     "output_type": "stream",
     "text": [
      "The mean R2 is: -2.32 +/- 3.42\n"
     ]
    }
   ],
   "source": [
    "from sklearn.model_selection import TimeSeriesSplit\n",
    "\n",
    "\"\"\"\n",
    "Time Series cross-validator\n",
    "\n",
    "Provides train/test indices to split time series data samples\n",
    "that are observed at fixed time intervals, in train/test sets.\n",
    "In each split, test indices must be higher than before, and thus shuffling\n",
    "in cross validator is inappropriate.\n",
    "\n",
    "This cross-validation object is a variation of :class:`KFold`.\n",
    "In the kth split, it returns first k folds as train set and the\n",
    "(k+1)th fold as test set.\n",
    "\n",
    "Note that unlike standard cross-validation methods, successive\n",
    "training sets are supersets of those that come before them.\n",
    "\n",
    "\"\"\"\n",
    "\n",
    "cv = TimeSeriesSplit(\n",
    "      n_splits=groups.nunique()\n",
    ")\n",
    "\n",
    "test_score = cross_val_score(\n",
    "      regressor,\n",
    "      data,\n",
    "      target,\n",
    "      cv=cv,\n",
    "      groups=groups,\n",
    "      n_jobs=2\n",
    ")\n",
    "\n",
    "print(\n",
    "      f\"The mean R2 is: \"\n",
    "      f\"{test_score.mean():.2f} +/- {test_score.std():.2f}\"\n",
    ")\n"
   ]
  },
  {
   "cell_type": "markdown",
   "metadata": {},
   "source": [
    "##### QUIZ 2\n",
    "\n",
    "**1. Given a dataset containing records from patients in 10 different hospitals, we would like to predict if a patient has a disease or not. We suspect that different hospitals can have systematic biases in their respective populations (age, socioeconomic status, genetics...). Which cross-validation strategies are the most adequate to evaluate the ability of the model to make good predictions on patients from unseen hospitals?**\n",
    "\n",
    "\n",
    "a) Group stratified k-fold cross-validation\n",
    "\n",
    "b) Group k-fold\n",
    "\n",
    "c) Stratified k-fold cross-validation \n",
    "\n",
    "d) Leave-one-out cross-validation\n",
    "\n",
    "<br>"
   ]
  },
  {
   "cell_type": "markdown",
   "metadata": {},
   "source": [
    "#### Nested Cross-validation \n",
    "\n",
    "We can use Cross-validation for the hyperparameter tuning and estimating a model's generalization performance. \n",
    "\n",
    "However, simultaneously using it for both purposes is problematic, as the resulting evaluation can underestimate some overfitting resulting from the hyperparameter tuning procedure itself.\n",
    "\n",
    "Philosophically, hyperparameter tuning is a form of machine learning\n",
    "itself, and therefore, we need another outer loop of cross-validation to evaluate the generalization performance of the full modeling procedure properly.\n",
    "\n",
    "<br>\n",
    "\n",
    "In this section, we revisit the nested cross-validation and understand its impact on the estimated generalization performance compared to naively using a single level of cross-validation. We will do this for the hyperparameter tuning and evaluation of the generalization performance and use the breast cancer dataset.\n",
    "\n",
    "First, we will use `GridSearchCV` to find the best parameters via cross-validation on a minimal parameter grid.\n",
    "\n",
    "We recall that, internally, **`GridSearchCV` trains several models for each on sub-sampled training sets and evaluates them on the matching testing set using cross-validation**. This evaluation procedure is controlled via using the `cv` parameter. The procedure is then repeated for all possible combinations of parameters given in `param_grid`.\n",
    "\n",
    "The attribute `best_params_` gives us the best parameters that maximize the mean score on the internal test sets. \n",
    "\n",
    "*At this stage, one should be extremely careful using the score calculated. The misinterpretation would be the following: since this mean score was computed using cross-validation test sets, we could use it to assess the generalization performance of the model trained with the best hyper-parameters. However, we should not forget that we used this score to pick the best model. It means that we used knowledge from the test sets (i.e., test scores) to select the hyper-parameter of the model itself. Thus, the mean score is not a fair estimate of our testing error.*\n",
    "\n",
    "Indeed, it can be too optimistic, particularly when running a parameter search on a large grid with many hyper-parameters and possible values per hyper-parameter. \n",
    "\n",
    "*A way to avoid this pitfall is to use a \"nested\" cross-validation.*\n",
    "\n",
    "<br>\n",
    "\n",
    "We will use an inner cross-validation corresponding to the previous procedure above to only optimize the hyperparameters. We will also embed this tuning procedure within outer cross-validation, which is dedicated to estimate the testing error of our tuned model.\n",
    "\n",
    "In this case, our inner cross-validation gets the training set of the outer cross-validation, making it possible to always compute the final testing scores on completely independent sets of samples.\n",
    "\n",
    "We will observe that the generalization performance estimated without nested CV is higher than what we obtain with nested CV. The reason is that the tuning procedure selects the model with the highest inner CV score. \n",
    "\n",
    "If there are many hyper-parameter combinations, and if the inner CV scores have comparatively large standard deviations, taking the maximum value can lure the naive data scientist into overestimating the true generalization performance of the result of the full learning procedure. \n",
    "\n",
    "**By using an outer cross-validation procedure, one gets a more trustworthy estimate of the generalization performance of the full learning procedure, including the effect of tuning the hyperparameters.**\n",
    "\n",
    "\n",
    "Notice that our inner cross-validation will always get the training set of the outer cross-validation, making it possible always to compute the final testing scores on entirely independent sets of samples.\n",
    "\n",
    "The reported score will be more trustworthy and should be close to the production's expected generalization performance. \n",
    "\n",
    "<br>\n",
    "\n",
    "However, we would like to assess the difference between the nested and better non-nested cross-validation scores to show that the latter can be too optimistic in practice. To do this, we will repeat the experiment several times and shuffle the data differently to ensure that our conclusion does not depend on a particular data resampling.\n",
    "\n",
    "\n",
    "We will observe that the generalization performance estimated without nested CV is higher than what we obtain with nested CV. The reason is that the tuning procedure selects the model with the highest inner CV score. If there are many hyper-parameter combinations and the inner CV scores have comparatively large standard deviations, taking the maximum value can lure the naive data scientist into overestimating the true generalization performance of the result of the full learning procedure. \n",
    "\n",
    "\n",
    "By using an outer cross-validation procedure one gets a more trustworthy estimate of the generalization performance of the full learning procedure, including the effect of tuning the hyperparameters.\n",
    "\n",
    "<br>\n",
    "\n",
    "**Lesson**\n",
    "\n",
    "When optimizing parts of the machine learning pipeline (e.g. hyperparameter, transform, etc.), one needs to use nested cross-validation to evaluate the generalization performance of the predictive model. Otherwise, the results obtained without nested cross-validation are often overly optimistic.\n",
    "\n",
    "\n"
   ]
  },
  {
   "cell_type": "code",
   "execution_count": 50,
   "metadata": {},
   "outputs": [],
   "source": [
    "from sklearn.datasets import load_breast_cancer\n",
    "\n",
    "data, target = load_breast_cancer(\n",
    "    return_X_y=True\n",
    ")"
   ]
  },
  {
   "cell_type": "code",
   "execution_count": 51,
   "metadata": {},
   "outputs": [
    {
     "data": {
      "text/html": [
       "<style>#sk-container-id-4 {color: black;background-color: white;}#sk-container-id-4 pre{padding: 0;}#sk-container-id-4 div.sk-toggleable {background-color: white;}#sk-container-id-4 label.sk-toggleable__label {cursor: pointer;display: block;width: 100%;margin-bottom: 0;padding: 0.3em;box-sizing: border-box;text-align: center;}#sk-container-id-4 label.sk-toggleable__label-arrow:before {content: \"▸\";float: left;margin-right: 0.25em;color: #696969;}#sk-container-id-4 label.sk-toggleable__label-arrow:hover:before {color: black;}#sk-container-id-4 div.sk-estimator:hover label.sk-toggleable__label-arrow:before {color: black;}#sk-container-id-4 div.sk-toggleable__content {max-height: 0;max-width: 0;overflow: hidden;text-align: left;background-color: #f0f8ff;}#sk-container-id-4 div.sk-toggleable__content pre {margin: 0.2em;color: black;border-radius: 0.25em;background-color: #f0f8ff;}#sk-container-id-4 input.sk-toggleable__control:checked~div.sk-toggleable__content {max-height: 200px;max-width: 100%;overflow: auto;}#sk-container-id-4 input.sk-toggleable__control:checked~label.sk-toggleable__label-arrow:before {content: \"▾\";}#sk-container-id-4 div.sk-estimator input.sk-toggleable__control:checked~label.sk-toggleable__label {background-color: #d4ebff;}#sk-container-id-4 div.sk-label input.sk-toggleable__control:checked~label.sk-toggleable__label {background-color: #d4ebff;}#sk-container-id-4 input.sk-hidden--visually {border: 0;clip: rect(1px 1px 1px 1px);clip: rect(1px, 1px, 1px, 1px);height: 1px;margin: -1px;overflow: hidden;padding: 0;position: absolute;width: 1px;}#sk-container-id-4 div.sk-estimator {font-family: monospace;background-color: #f0f8ff;border: 1px dotted black;border-radius: 0.25em;box-sizing: border-box;margin-bottom: 0.5em;}#sk-container-id-4 div.sk-estimator:hover {background-color: #d4ebff;}#sk-container-id-4 div.sk-parallel-item::after {content: \"\";width: 100%;border-bottom: 1px solid gray;flex-grow: 1;}#sk-container-id-4 div.sk-label:hover label.sk-toggleable__label {background-color: #d4ebff;}#sk-container-id-4 div.sk-serial::before {content: \"\";position: absolute;border-left: 1px solid gray;box-sizing: border-box;top: 0;bottom: 0;left: 50%;z-index: 0;}#sk-container-id-4 div.sk-serial {display: flex;flex-direction: column;align-items: center;background-color: white;padding-right: 0.2em;padding-left: 0.2em;position: relative;}#sk-container-id-4 div.sk-item {position: relative;z-index: 1;}#sk-container-id-4 div.sk-parallel {display: flex;align-items: stretch;justify-content: center;background-color: white;position: relative;}#sk-container-id-4 div.sk-item::before, #sk-container-id-4 div.sk-parallel-item::before {content: \"\";position: absolute;border-left: 1px solid gray;box-sizing: border-box;top: 0;bottom: 0;left: 50%;z-index: -1;}#sk-container-id-4 div.sk-parallel-item {display: flex;flex-direction: column;z-index: 1;position: relative;background-color: white;}#sk-container-id-4 div.sk-parallel-item:first-child::after {align-self: flex-end;width: 50%;}#sk-container-id-4 div.sk-parallel-item:last-child::after {align-self: flex-start;width: 50%;}#sk-container-id-4 div.sk-parallel-item:only-child::after {width: 0;}#sk-container-id-4 div.sk-dashed-wrapped {border: 1px dashed gray;margin: 0 0.4em 0.5em 0.4em;box-sizing: border-box;padding-bottom: 0.4em;background-color: white;}#sk-container-id-4 div.sk-label label {font-family: monospace;font-weight: bold;display: inline-block;line-height: 1.2em;}#sk-container-id-4 div.sk-label-container {text-align: center;}#sk-container-id-4 div.sk-container {/* jupyter's `normalize.less` sets `[hidden] { display: none; }` but bootstrap.min.css set `[hidden] { display: none !important; }` so we also need the `!important` here to be able to override the default hidden behavior on the sphinx rendered scikit-learn.org. See: https://github.com/scikit-learn/scikit-learn/issues/21755 */display: inline-block !important;position: relative;}#sk-container-id-4 div.sk-text-repr-fallback {display: none;}</style><div id=\"sk-container-id-4\" class=\"sk-top-container\"><div class=\"sk-text-repr-fallback\"><pre>GridSearchCV(estimator=SVC(), n_jobs=2,\n",
       "             param_grid={&#x27;C&#x27;: [0.1, 1, 10], &#x27;gamma&#x27;: [0.01, 0.1]})</pre><b>In a Jupyter environment, please rerun this cell to show the HTML representation or trust the notebook. <br />On GitHub, the HTML representation is unable to render, please try loading this page with nbviewer.org.</b></div><div class=\"sk-container\" hidden><div class=\"sk-item sk-dashed-wrapped\"><div class=\"sk-label-container\"><div class=\"sk-label sk-toggleable\"><input class=\"sk-toggleable__control sk-hidden--visually\" id=\"sk-estimator-id-6\" type=\"checkbox\" ><label for=\"sk-estimator-id-6\" class=\"sk-toggleable__label sk-toggleable__label-arrow\">GridSearchCV</label><div class=\"sk-toggleable__content\"><pre>GridSearchCV(estimator=SVC(), n_jobs=2,\n",
       "             param_grid={&#x27;C&#x27;: [0.1, 1, 10], &#x27;gamma&#x27;: [0.01, 0.1]})</pre></div></div></div><div class=\"sk-parallel\"><div class=\"sk-parallel-item\"><div class=\"sk-item\"><div class=\"sk-label-container\"><div class=\"sk-label sk-toggleable\"><input class=\"sk-toggleable__control sk-hidden--visually\" id=\"sk-estimator-id-7\" type=\"checkbox\" ><label for=\"sk-estimator-id-7\" class=\"sk-toggleable__label sk-toggleable__label-arrow\">estimator: SVC</label><div class=\"sk-toggleable__content\"><pre>SVC()</pre></div></div></div><div class=\"sk-serial\"><div class=\"sk-item\"><div class=\"sk-estimator sk-toggleable\"><input class=\"sk-toggleable__control sk-hidden--visually\" id=\"sk-estimator-id-8\" type=\"checkbox\" ><label for=\"sk-estimator-id-8\" class=\"sk-toggleable__label sk-toggleable__label-arrow\">SVC</label><div class=\"sk-toggleable__content\"><pre>SVC()</pre></div></div></div></div></div></div></div></div></div></div>"
      ],
      "text/plain": [
       "GridSearchCV(estimator=SVC(), n_jobs=2,\n",
       "             param_grid={'C': [0.1, 1, 10], 'gamma': [0.01, 0.1]})"
      ]
     },
     "execution_count": 51,
     "metadata": {},
     "output_type": "execute_result"
    }
   ],
   "source": [
    "from sklearn.model_selection import GridSearchCV\n",
    "from sklearn.svm import SVC\n",
    "\n",
    "param_grid = {\n",
    "    \"C\": [0.1, 1, 10],\n",
    "    \"gamma\": [.01, .1]\n",
    "}\n",
    "\n",
    "model_to_tune = SVC()\n",
    "\n",
    "search = GridSearchCV(\n",
    "    estimator=model_to_tune,\n",
    "    param_grid=param_grid,\n",
    "    n_jobs=2\n",
    ")\n",
    "\n",
    "search.fit(data, target)"
   ]
  },
  {
   "cell_type": "code",
   "execution_count": 52,
   "metadata": {},
   "outputs": [
    {
     "name": "stdout",
     "output_type": "stream",
     "text": [
      "The best parameters found are: {'C': 0.1, 'gamma': 0.01}\n",
      "The mean CV score of the best model is: 0.627\n"
     ]
    }
   ],
   "source": [
    "print(f\"The best parameters found are: {search.best_params_}\")\n",
    "print(f\"The mean CV score of the best model is: {search.best_score_:.3f}\")"
   ]
  },
  {
   "cell_type": "code",
   "execution_count": 53,
   "metadata": {},
   "outputs": [
    {
     "name": "stdout",
     "output_type": "stream",
     "text": [
      "The mean score using nested cross-validation is: 0.626 +/- 0.020\n"
     ]
    }
   ],
   "source": [
    "from sklearn.model_selection import cross_val_score, KFold\n",
    "\n",
    "# Declare the inner and outer cross-validation strategies\n",
    "inner_cv = KFold(\n",
    "    n_splits=5,\n",
    "    shuffle=True,\n",
    "    random_state=42\n",
    ")\n",
    "\n",
    "outer_cv = KFold(\n",
    "    n_splits=3,\n",
    "    shuffle=True,\n",
    "    random_state=42\n",
    ")\n",
    "\n",
    "# Inner cross-validation for parameter search\n",
    "model = GridSearchCV(\n",
    "    estimator=model_to_tune,\n",
    "    param_grid=param_grid,\n",
    "    cv=inner_cv,\n",
    "    n_jobs=2\n",
    ")\n",
    "\n",
    "# Outer cross-validation to compute the testing score\n",
    "test_score = cross_val_score(\n",
    "    model,\n",
    "    data,\n",
    "    target,\n",
    "    cv=outer_cv,\n",
    "    n_jobs=2\n",
    ")\n",
    "\n",
    "print(\n",
    "    f\"The mean score using nested cross-validation is: \"\n",
    "    f\"{test_score.mean():.3f} +/- {test_score.std():.3f}\"\n",
    ")"
   ]
  },
  {
   "cell_type": "code",
   "execution_count": 54,
   "metadata": {},
   "outputs": [],
   "source": [
    "test_score_not_nested = []\n",
    "test_score_nested = []\n",
    "\n",
    "N_TRIALS = 20\n",
    "for i in range(N_TRIALS):\n",
    "    # For each trial, we use cross-validation splits on independently\n",
    "    # randomly shuffled data by passing distinct values to the random_state\n",
    "    # parameter.\n",
    "    inner_cv = KFold(\n",
    "        n_splits=5,\n",
    "        shuffle=True,\n",
    "        random_state=i\n",
    "    )\n",
    "\n",
    "    outer_cv = KFold(\n",
    "        n_splits=3,\n",
    "        shuffle=True,\n",
    "        random_state=i\n",
    "    )\n",
    "\n",
    "    # Non_nested parameter search and scoring\n",
    "    model = GridSearchCV(\n",
    "        estimator=model_to_tune,\n",
    "        param_grid=param_grid,\n",
    "        cv=inner_cv,\n",
    "        n_jobs=2\n",
    "    )\n",
    "\n",
    "    model.fit(\n",
    "        data,\n",
    "        target\n",
    "    )\n",
    "    \n",
    "    test_score_not_nested.append(model.best_score_)\n",
    "\n",
    "    # Nested CV with parameter optimization\n",
    "    test_score = cross_val_score(\n",
    "        model,\n",
    "        data,\n",
    "        target,\n",
    "        cv=outer_cv,\n",
    "        n_jobs=2\n",
    "    )\n",
    "\n",
    "    test_score_nested.append(\n",
    "        test_score.mean()\n",
    "    )"
   ]
  },
  {
   "cell_type": "code",
   "execution_count": 55,
   "metadata": {},
   "outputs": [],
   "source": [
    "import pandas as pd\n",
    "\n",
    "all_scores = {\n",
    "    \"Not nested CV\": test_score_not_nested,\n",
    "    \"Nested CV\": test_score_nested,\n",
    "}\n",
    "all_scores = pd.DataFrame(all_scores)"
   ]
  },
  {
   "cell_type": "code",
   "execution_count": 56,
   "metadata": {},
   "outputs": [
    {
     "data": {
      "image/png": "[encoded data removed]",
      "text/plain": [
       "<Figure size 432x288 with 1 Axes>"
      ]
     },
     "metadata": {
      "needs_background": "light"
     },
     "output_type": "display_data"
    }
   ],
   "source": [
    "import matplotlib.pyplot as plt\n",
    "\n",
    "color = {\n",
    "    \"whiskers\": \"black\",\n",
    "    \"medians\": \"black\",\n",
    "    \"caps\": \"black\"\n",
    "}\n",
    "\n",
    "all_scores.plot.box(\n",
    "    color=color,\n",
    "    vert=False\n",
    ")\n",
    "\n",
    "plt.xlabel(\"Accuracy\")\n",
    "_ = plt.title(\n",
    "    \"Comparison of mean accuracy obtained on the test sets with\\n\"\n",
    "    \"and without nested cross-validation\"\n",
    ")"
   ]
  },
  {
   "cell_type": "markdown",
   "metadata": {},
   "source": [
    "##### QUIZ 3\n",
    "\n",
    "**1. How to evaluate and tune the hyperparameters of a model?**\n",
    "\n",
    "a) Fit the model on the train set, set the parameters using the test set, and evaluate the model on the same test set \n",
    "\n",
    "b) Fit the model on the train set, set the parameters using a validation set, and evaluate the model on the test set \n",
    "\n",
    "c) use a nested cross-validation, with an inner cross-validation to tune the parameters of the model and an outer cross-validation to evaluate the model's performance\n",
    "\n",
    "<br>\n"
   ]
  },
  {
   "cell_type": "markdown",
   "metadata": {},
   "source": [
    "#### Classification Metrics\n",
    "\n",
    "Machine learning models rely on optimizing an objective function by seeking its minimum or maximum. Understanding that this objective function is usually decoupled from the evaluation metric we want to optimize in practice is essential. \n",
    "\n",
    "The objective function serves as a proxy for the evaluation metric. \n",
    "This section gives an overview of the classification metrics we can use to evaluate the predictive model generalization performance. \n",
    "\n",
    "We have picked a data which has multiple classes to demonstrate how to deal with multiclass problems. \n",
    "\n",
    "\n"
   ]
  },
  {
   "cell_type": "code",
   "execution_count": 57,
   "metadata": {},
   "outputs": [
    {
     "name": "stdout",
     "output_type": "stream",
     "text": [
      "(178, 13)\n",
      "(178,)\n"
     ]
    }
   ],
   "source": [
    "\n",
    "from sklearn.datasets import load_wine\n",
    "\n",
    "X, y = load_wine(as_frame=True, return_X_y=True)\n",
    "\n",
    "print(X.shape)\n",
    "print(y.shape)\n"
   ]
  },
  {
   "cell_type": "code",
   "execution_count": 58,
   "metadata": {},
   "outputs": [
    {
     "name": "stdout",
     "output_type": "stream",
     "text": [
      "Index(['alcohol', 'malic_acid', 'ash', 'alcalinity_of_ash', 'magnesium',\n",
      "       'total_phenols', 'flavanoids', 'nonflavanoid_phenols',\n",
      "       'proanthocyanins', 'color_intensity', 'hue',\n",
      "       'od280/od315_of_diluted_wines', 'proline'],\n",
      "      dtype='object')\n"
     ]
    }
   ],
   "source": [
    "print(X.columns)"
   ]
  },
  {
   "cell_type": "code",
   "execution_count": 59,
   "metadata": {},
   "outputs": [
    {
     "data": {
      "text/plain": [
       "(array([0, 1, 2]), array([59, 71, 48]))"
      ]
     },
     "execution_count": 59,
     "metadata": {},
     "output_type": "execute_result"
    }
   ],
   "source": [
    "import numpy as np\n",
    "np.unique(y, return_counts=True)"
   ]
  },
  {
   "cell_type": "code",
   "execution_count": 60,
   "metadata": {},
   "outputs": [
    {
     "data": {
      "image/png": "[encoded data removed]",
      "text/plain": [
       "<Figure size 432x288 with 1 Axes>"
      ]
     },
     "metadata": {
      "needs_background": "light"
     },
     "output_type": "display_data"
    }
   ],
   "source": [
    "import seaborn as sns\n",
    "import pandas as pd\n",
    "\n",
    "_ = sns.histplot(\n",
    "    data=y.astype('str').to_frame(),\n",
    "    x='target',\n",
    "    discrete=1\n",
    ")\n"
   ]
  },
  {
   "cell_type": "code",
   "execution_count": 61,
   "metadata": {},
   "outputs": [],
   "source": [
    "from sklearn.model_selection import train_test_split\n",
    "\n",
    "data_train, data_test, target_train, target_test = train_test_split(\n",
    "    X,\n",
    "    y,\n",
    "    shuffle=True,\n",
    "    random_state=42, \n",
    "    test_size=0.5\n",
    ")"
   ]
  },
  {
   "cell_type": "code",
   "execution_count": 62,
   "metadata": {},
   "outputs": [
    {
     "data": {
      "text/html": [
       "<style>#sk-container-id-5 {color: black;background-color: white;}#sk-container-id-5 pre{padding: 0;}#sk-container-id-5 div.sk-toggleable {background-color: white;}#sk-container-id-5 label.sk-toggleable__label {cursor: pointer;display: block;width: 100%;margin-bottom: 0;padding: 0.3em;box-sizing: border-box;text-align: center;}#sk-container-id-5 label.sk-toggleable__label-arrow:before {content: \"▸\";float: left;margin-right: 0.25em;color: #696969;}#sk-container-id-5 label.sk-toggleable__label-arrow:hover:before {color: black;}#sk-container-id-5 div.sk-estimator:hover label.sk-toggleable__label-arrow:before {color: black;}#sk-container-id-5 div.sk-toggleable__content {max-height: 0;max-width: 0;overflow: hidden;text-align: left;background-color: #f0f8ff;}#sk-container-id-5 div.sk-toggleable__content pre {margin: 0.2em;color: black;border-radius: 0.25em;background-color: #f0f8ff;}#sk-container-id-5 input.sk-toggleable__control:checked~div.sk-toggleable__content {max-height: 200px;max-width: 100%;overflow: auto;}#sk-container-id-5 input.sk-toggleable__control:checked~label.sk-toggleable__label-arrow:before {content: \"▾\";}#sk-container-id-5 div.sk-estimator input.sk-toggleable__control:checked~label.sk-toggleable__label {background-color: #d4ebff;}#sk-container-id-5 div.sk-label input.sk-toggleable__control:checked~label.sk-toggleable__label {background-color: #d4ebff;}#sk-container-id-5 input.sk-hidden--visually {border: 0;clip: rect(1px 1px 1px 1px);clip: rect(1px, 1px, 1px, 1px);height: 1px;margin: -1px;overflow: hidden;padding: 0;position: absolute;width: 1px;}#sk-container-id-5 div.sk-estimator {font-family: monospace;background-color: #f0f8ff;border: 1px dotted black;border-radius: 0.25em;box-sizing: border-box;margin-bottom: 0.5em;}#sk-container-id-5 div.sk-estimator:hover {background-color: #d4ebff;}#sk-container-id-5 div.sk-parallel-item::after {content: \"\";width: 100%;border-bottom: 1px solid gray;flex-grow: 1;}#sk-container-id-5 div.sk-label:hover label.sk-toggleable__label {background-color: #d4ebff;}#sk-container-id-5 div.sk-serial::before {content: \"\";position: absolute;border-left: 1px solid gray;box-sizing: border-box;top: 0;bottom: 0;left: 50%;z-index: 0;}#sk-container-id-5 div.sk-serial {display: flex;flex-direction: column;align-items: center;background-color: white;padding-right: 0.2em;padding-left: 0.2em;position: relative;}#sk-container-id-5 div.sk-item {position: relative;z-index: 1;}#sk-container-id-5 div.sk-parallel {display: flex;align-items: stretch;justify-content: center;background-color: white;position: relative;}#sk-container-id-5 div.sk-item::before, #sk-container-id-5 div.sk-parallel-item::before {content: \"\";position: absolute;border-left: 1px solid gray;box-sizing: border-box;top: 0;bottom: 0;left: 50%;z-index: -1;}#sk-container-id-5 div.sk-parallel-item {display: flex;flex-direction: column;z-index: 1;position: relative;background-color: white;}#sk-container-id-5 div.sk-parallel-item:first-child::after {align-self: flex-end;width: 50%;}#sk-container-id-5 div.sk-parallel-item:last-child::after {align-self: flex-start;width: 50%;}#sk-container-id-5 div.sk-parallel-item:only-child::after {width: 0;}#sk-container-id-5 div.sk-dashed-wrapped {border: 1px dashed gray;margin: 0 0.4em 0.5em 0.4em;box-sizing: border-box;padding-bottom: 0.4em;background-color: white;}#sk-container-id-5 div.sk-label label {font-family: monospace;font-weight: bold;display: inline-block;line-height: 1.2em;}#sk-container-id-5 div.sk-label-container {text-align: center;}#sk-container-id-5 div.sk-container {/* jupyter's `normalize.less` sets `[hidden] { display: none; }` but bootstrap.min.css set `[hidden] { display: none !important; }` so we also need the `!important` here to be able to override the default hidden behavior on the sphinx rendered scikit-learn.org. See: https://github.com/scikit-learn/scikit-learn/issues/21755 */display: inline-block !important;position: relative;}#sk-container-id-5 div.sk-text-repr-fallback {display: none;}</style><div id=\"sk-container-id-5\" class=\"sk-top-container\"><div class=\"sk-text-repr-fallback\"><pre>Pipeline(steps=[(&#x27;scale&#x27;, StandardScaler()),\n",
       "                [&#x27;classify&#x27;,\n",
       "                 LogisticRegression(C=0.05, max_iter=5000, penalty=&#x27;l1&#x27;,\n",
       "                                    solver=&#x27;saga&#x27;)]])</pre><b>In a Jupyter environment, please rerun this cell to show the HTML representation or trust the notebook. <br />On GitHub, the HTML representation is unable to render, please try loading this page with nbviewer.org.</b></div><div class=\"sk-container\" hidden><div class=\"sk-item sk-dashed-wrapped\"><div class=\"sk-label-container\"><div class=\"sk-label sk-toggleable\"><input class=\"sk-toggleable__control sk-hidden--visually\" id=\"sk-estimator-id-9\" type=\"checkbox\" ><label for=\"sk-estimator-id-9\" class=\"sk-toggleable__label sk-toggleable__label-arrow\">Pipeline</label><div class=\"sk-toggleable__content\"><pre>Pipeline(steps=[(&#x27;scale&#x27;, StandardScaler()),\n",
       "                [&#x27;classify&#x27;,\n",
       "                 LogisticRegression(C=0.05, max_iter=5000, penalty=&#x27;l1&#x27;,\n",
       "                                    solver=&#x27;saga&#x27;)]])</pre></div></div></div><div class=\"sk-serial\"><div class=\"sk-item\"><div class=\"sk-estimator sk-toggleable\"><input class=\"sk-toggleable__control sk-hidden--visually\" id=\"sk-estimator-id-10\" type=\"checkbox\" ><label for=\"sk-estimator-id-10\" class=\"sk-toggleable__label sk-toggleable__label-arrow\">StandardScaler</label><div class=\"sk-toggleable__content\"><pre>StandardScaler()</pre></div></div></div><div class=\"sk-item\"><div class=\"sk-estimator sk-toggleable\"><input class=\"sk-toggleable__control sk-hidden--visually\" id=\"sk-estimator-id-11\" type=\"checkbox\" ><label for=\"sk-estimator-id-11\" class=\"sk-toggleable__label sk-toggleable__label-arrow\">LogisticRegression</label><div class=\"sk-toggleable__content\"><pre>LogisticRegression(C=0.05, max_iter=5000, penalty=&#x27;l1&#x27;, solver=&#x27;saga&#x27;)</pre></div></div></div></div></div></div></div>"
      ],
      "text/plain": [
       "Pipeline(steps=[('scale', StandardScaler()),\n",
       "                ['classify',\n",
       "                 LogisticRegression(C=0.05, max_iter=5000, penalty='l1',\n",
       "                                    solver='saga')]])"
      ]
     },
     "execution_count": 62,
     "metadata": {},
     "output_type": "execute_result"
    }
   ],
   "source": [
    "from sklearn.linear_model import LogisticRegression\n",
    "from sklearn.pipeline import Pipeline\n",
    "from sklearn.preprocessing import StandardScaler\n",
    "\n",
    "# we set parameter of LogisticRegression such that it doesn't give great results\n",
    "clf = Pipeline(\n",
    "    (\n",
    "        ['scale', StandardScaler()],\n",
    "        ['classify', LogisticRegression(penalty='l1', C=0.05, solver='saga', max_iter=5000)]\n",
    "    )\n",
    ")\n",
    "\n",
    "clf.fit(\n",
    "    data_train,\n",
    "    target_train\n",
    ")"
   ]
  },
  {
   "cell_type": "code",
   "execution_count": 63,
   "metadata": {},
   "outputs": [
    {
     "data": {
      "text/plain": [
       "(array([False,  True]), array([14, 75]))"
      ]
     },
     "execution_count": 63,
     "metadata": {},
     "output_type": "execute_result"
    }
   ],
   "source": [
    "\"\"\"\n",
    "In this comparison a True value means that the value predicted by our classifier is identical to the real value, \n",
    "while a False means that our classifier made a mistake. \n",
    "\"\"\"\n",
    "target_predicted = clf.predict(data_test)\n",
    "\n",
    "np.unique(\n",
    "    target_predicted==target_test,\n",
    "    return_counts=True\n",
    ")\n",
    "\n"
   ]
  },
  {
   "cell_type": "code",
   "execution_count": 64,
   "metadata": {},
   "outputs": [
    {
     "data": {
      "text/plain": [
       "0.8426966292134831"
      ]
     },
     "execution_count": 64,
     "metadata": {},
     "output_type": "execute_result"
    }
   ],
   "source": [
    "\"\"\"\n",
    "One way of getting an overall rate representing the generalization performance of our classifier \n",
    "would be to compute how many times our classifier was right and divide it by the number of samples in our set.\n",
    "\"\"\"\n",
    "np.mean(target_test == target_predicted)"
   ]
  },
  {
   "cell_type": "code",
   "execution_count": 65,
   "metadata": {},
   "outputs": [
    {
     "name": "stdout",
     "output_type": "stream",
     "text": [
      "Accuracy: 0.843\n"
     ]
    }
   ],
   "source": [
    "\"\"\"\n",
    "The above measure is called the accuracy. \n",
    "Here, our classifier is 78% accurate at classifying. \n",
    "scikit-learn provides a function that computes this metric in the module sklearn.metrics.\n",
    "\"\"\"\n",
    "from sklearn.metrics import accuracy_score\n",
    "\n",
    "accuracy = accuracy_score(target_test, target_predicted)\n",
    "print(f\"Accuracy: {accuracy:.3f}\")"
   ]
  },
  {
   "cell_type": "code",
   "execution_count": 66,
   "metadata": {},
   "outputs": [
    {
     "data": {
      "text/plain": [
       "0.8426966292134831"
      ]
     },
     "execution_count": 66,
     "metadata": {},
     "output_type": "execute_result"
    }
   ],
   "source": [
    "\"\"\"\n",
    "LogisticRegression also has a method named score (part of the standard scikit-learn API), \n",
    "which computes the accuracy score.\n",
    "\"\"\"\n",
    "clf.score(data_test, target_test)"
   ]
  },
  {
   "cell_type": "markdown",
   "metadata": {},
   "source": [
    "##### Confusion matrix and derived metrics\n",
    "\n",
    "The comparison we did above and the Accuracy that we calculated did not consider the type of error our classifier was making. \n",
    "\n",
    "Accuracy is an aggregate of the errors made by the classifier. \n",
    "\n",
    "We may be interested in finer granularity - to know the error for each class independently. \n",
    "\n",
    "**Confusion Matrix**\n",
    "A Confusion matrix is an $ N x N $  matrix used to evaluate a classification model's performance, where $N$ is the number of target classes. The matrix compares the actual target values with those predicted by the machine learning model, which gives us a holistic view of how well our classification model performs and what kinds of errors it makes.\n",
    "\n",
    "For a binary classification problem, we would have a $ 2 x 2 $ matrix as shown below with 4 values:\n",
    "\n",
    "![basic confusion matrix](../figures/confusion/Confusion-matrix.png)\n",
    "\n",
    "<br>\n",
    "\n",
    "Terminology from a confusion matrix\n",
    "\n",
    "**condition Positive (P)**  the number of real positive cases in the data\n",
    "\n",
    "**condition negative (N)**  the number of real negative cases in the data\n",
    "\n",
    "**True Positive (TP)**  A test result that correctly indicates the presence of a condition or characteristic\n",
    "\n",
    "**True Negative (TN)**  A test result that correctly indicates the absence of a condition or characteristic\n",
    "\n",
    "**False positive (FP)**  A test result that wrongly indicates that a particular condition or attribute is present\n",
    "\n",
    "**False Negative (FN)** A test result that wrongly indicates that a particular condition or attribute is absent\n",
    "\n",
    "<br>\n",
    "Now we walk through some visual examples to understand the concept properly. \n",
    "Assume we have 10 photos, and exactly 7 of them have dogs. \n",
    "If our classifier were perfect, the confusion matrix would look like this:\n",
    "\n",
    "![perfect 2x2](../figures/confusion/2_1.png)\n",
    "\n",
    "This perfect classifier classified all positive photos and Positive and all negative as Negative.\n",
    "\n",
    "\n",
    "In the real world, however, classifiers make errors. A binary classifier makes two errors: some Positive samples are classified as Negative, and some Negative samples are classified as Positive. \n",
    "\n",
    "![real 2x2](../figures/confusion/2_2.png)\n",
    "\n",
    "In this example, 2 photos with dogs were classified as Negative (no dog!), and 1 photo without a dog was classified as Positive (dog!).\n",
    "\n",
    "When a Positive sample is falsely classified as Negative, we call this a False Negative (FN). \n",
    "\n",
    "And similarly, when a Negative sample is falsely classified as a Positive, it is called a False Positive. \n",
    "\n",
    "Below is the same confusion matrix, but we added TP, FP, FN, and TN to designate the True Positive, False Position, False Negative, and True Negative values.\n",
    "\n",
    "![real 2x2 with error terminology](../figures/confusion/2_3.png)\n",
    "\n",
    "**Precision**\n",
    "What proportion of predicted Positives is truly Positive? \n",
    "\n",
    "We need to look at the total number of predicted Positives (the True Positives plus the False Positives, TP+FP) and see how many of them are True Positive (TP). \n",
    "\n",
    "In our case, 5+1=6 photos were predicted as Positive, but only 5 of them were True Positives. The Precision in our case is thus 5/(5+1)=83.3%. \n",
    "In general, Precision is TP/(TP+FP). Note that TP+FP is the sum of the first row.\n",
    "\n",
    "**Recall**\n",
    "what proportion of actual Positives is correctly classified? \n",
    "\n",
    "We know that the number of actual Positives is 2+5=7 (TP+FN). Out of these 7 photos, 5 were predicted as Positive. The recall is thus 5/7 = 71.4%. \n",
    "In general, recall is TP/(TP+FN). Note that TP+FN is the sum of the first column.\n",
    "\n",
    "**Accuracy**\n",
    "what proportion of photos — both Positive and Negative — were correctly classified? \n",
    "\n",
    "In our case, 5+2=7 of the photos were correctly classified out of 10. Thus, the Accuracy is 70.0%. \n",
    "Generally speaking, there are a total of TP+TN correctly classified photos out of TP+TN+FP+FN photos, so the general formula for Accuracy is (TP+TN)/(TP+TN+FP+FN).\n",
    "\n",
    "<br>\n",
    "\n",
    "Now we look at a multiclass classification example. \n",
    "\n",
    "we have total three classes which can be either a cat, a fish, or a hen and the sample confusion matrix that is produced after classifying 25 photos\n",
    "\n",
    "![real 3x3](../figures/confusion/3_1.png)\n",
    "\n",
    "Similar to our binary case, we can define precision and recall for each class. \n",
    "\n",
    "The precision for the Cat class is the number of correctly predicted Cat photos (4) out of all predicted Cat photos (4+3+6=13), which amounts to 4/13=30.8%. \n",
    "\n",
    "The recall for Cat is the number of correctly predicted Cat photos (4) out of the number of actual Cat photos (4+1+1=6), which is 4/6=66.7%. \n",
    "\n",
    "![real 3x3 cat precison and recall](../figures/confusion/3_2.png)\n",
    "\n",
    "<br>\n",
    "\n",
    "We can also calculate the precision and recall for the other two classes: Fish and Hen. \n",
    "\n",
    "For Fish the numbers are 66.7% and 20.0%, respectively.\n",
    " \n",
    "For Hen the number for both precision and recall is 66.7%. \n",
    "\n",
    "![real 3x3 fish](../figures/confusion/3_3.png)\n",
    "\n",
    "<br>\n",
    "\n",
    "![real 3x3 hen](../figures/confusion/3_4.png)\n",
    "\n",
    "<br>\n",
    "\n",
    "we can compute the macro-averaged precision and the macro-averaged recall:\n",
    "\n",
    "Macro-precision = (31% + 67% + 67%) / 3 = 54.7%\n",
    "\n",
    "Macro-recall = (67% + 20% + 67%) / 3 = 51.1%\n",
    "\n",
    "<br>\n",
    "\n",
    "we can also compute weighted precision and weighted recall:\n",
    "\n",
    "Weighted-precision=(6 × 30.8% + 10 × 66.7% + 9 × 66.7%)/25 = 58.1%\n",
    "\n",
    "Weighted-recall = (6 × 66.7% + 10 × 20.0% + 9 × 66.7%) / 25 = 48.0%\n",
    "\n",
    "<br>\n",
    "\n",
    "Below is an image that shows the different metrics derived from the above terms.\n",
    "\n",
    "![confusion derivatives](../figures/confusion/confusion_derivaties.png)\n",
    "\n",
    "<br>\n",
    "\n",
    "\n",
    "**Accuracy: how many times is the model right overall**\n",
    "\n",
    "**Precision: how many [specific category] predictions were correct?**\n",
    "\n",
    "**Recall: How many times were [specific category] correctly classified**\n",
    "\n",
    "scikit-learn provides functions to compute these statistics.\n",
    "\n",
    "<br>\n",
    "\n",
    "Now that we have learned the essential concept, we will generate the confusion matrix for our wine data.\n",
    "\n",
    "The in-diagonal numbers are related to correct predictions, while off-diagonal numbers are related to incorrect predictions (misclassifications). \n",
    "\n",
    "Once we have split this class-based information, we can compute metrics to highlight the generalization performance of our classifier in a particular setting. \n",
    "\n",
    "<br>\n",
    "\n",
    "\n",
    "[source](https://en.wikipedia.org/wiki/Confusion_matrix)\n",
    "\n",
    "[source](https://towardsdatascience.com/multi-class-metrics-made-simple-part-i-precision-and-recall-9250280bddc2)\n"
   ]
  },
  {
   "cell_type": "code",
   "execution_count": 67,
   "metadata": {},
   "outputs": [
    {
     "data": {
      "image/png": "[encoded data removed]",
      "text/plain": [
       "<Figure size 432x288 with 2 Axes>"
      ]
     },
     "metadata": {
      "needs_background": "light"
     },
     "output_type": "display_data"
    }
   ],
   "source": [
    "from sklearn.metrics import ConfusionMatrixDisplay\n",
    "\n",
    "_ = ConfusionMatrixDisplay.from_estimator(\n",
    "    clf,\n",
    "    data_test,\n",
    "    target_test\n",
    ")\n"
   ]
  },
  {
   "cell_type": "code",
   "execution_count": 68,
   "metadata": {},
   "outputs": [
    {
     "name": "stdout",
     "output_type": "stream",
     "text": [
      "\n",
      "------\n",
      "\n",
      "average : None\n",
      "Precision score: [1.         0.70833333 1.        ]\n",
      "Recall score: [0.66666667 1.         0.86363636]\n",
      "\n",
      "------\n",
      "\n",
      "average : macro\n",
      "Precision score: 0.9027777777777778\n",
      "Recall score: 0.8434343434343434\n",
      "\n",
      "------\n",
      "\n",
      "average : weighted\n",
      "Precision score: 0.8885767790262173\n",
      "Recall score: 0.8426966292134831\n",
      "\n",
      "------\n",
      "\n"
     ]
    }
   ],
   "source": [
    "from sklearn.metrics import precision_score, recall_score\n",
    "\n",
    "precision = precision_score(target_test, target_predicted, average=None)\n",
    "recall = recall_score(target_test, target_predicted,average=None)\n",
    "\n",
    "print(\"\\n------\\n\")\n",
    "print(\"average : None\")\n",
    "print(f\"Precision score: {precision}\")\n",
    "print(f\"Recall score: {recall}\")\n",
    "print(\"\\n------\\n\")\n",
    "\n",
    "precision = precision_score(target_test, target_predicted, average='macro')\n",
    "recall = recall_score(target_test, target_predicted, average='macro')\n",
    "\n",
    "print(\"average : macro\")\n",
    "print(f\"Precision score: {precision}\")\n",
    "print(f\"Recall score: {recall}\")\n",
    "print(\"\\n------\\n\")\n",
    "\n",
    "precision = precision_score(target_test, target_predicted, average='weighted')\n",
    "recall = recall_score(target_test, target_predicted, average='weighted')\n",
    "\n",
    "print(\"average : weighted\")\n",
    "print(f\"Precision score: {precision}\")\n",
    "print(f\"Recall score: {recall}\")\n",
    "print(\"\\n------\\n\")"
   ]
  },
  {
   "cell_type": "code",
   "execution_count": 69,
   "metadata": {},
   "outputs": [
    {
     "name": "stdout",
     "output_type": "stream",
     "text": [
      "              precision    recall  f1-score   support\n",
      "\n",
      "           0      1.000     0.667     0.800        33\n",
      "           1      0.708     1.000     0.829        34\n",
      "           2      1.000     0.864     0.927        22\n",
      "\n",
      "    accuracy                          0.843        89\n",
      "   macro avg      0.903     0.843     0.852        89\n",
      "weighted avg      0.889     0.843     0.843        89\n",
      "\n"
     ]
    }
   ],
   "source": [
    "from sklearn.metrics import classification_report\n",
    "\n",
    "print(classification_report(target_test, target_predicted, digits=3))"
   ]
  },
  {
   "cell_type": "markdown",
   "metadata": {},
   "source": [
    "##### The issue of class imbalance\n",
    "\n",
    "\n",
    "As we mentioned, precision and recall only focuses on samples predicted to be positive, while accuracy takes both into account. \n",
    "\n",
    "In addition, we did not look at the ratio of classes (labels). \n",
    "\n",
    "We could check this ratio in the training set.\n",
    "\n",
    "We can use dummy classifier as a baseline.\n",
    "\n",
    "With the dummy classifier we obtain an accuracy score of 38%. Therefore, it means that this classifier, without learning anything from the data data, is capable of predicting with 40% accuracy\n",
    "\n",
    "When the classes are imbalanced, accuracy should not be used and one should either use the precision and recall as presented above or the balanced accuracy score instead of accuracy.\n",
    "\n",
    "The balanced accuracy is equivalent to accuracy in the context of balanced classes. \n",
    "\n",
    "It is defined as the average recall obtained on each class.\n"
   ]
  },
  {
   "cell_type": "code",
   "execution_count": 70,
   "metadata": {},
   "outputs": [
    {
     "data": {
      "image/png": "[encoded data removed]",
      "text/plain": [
       "<Figure size 432x288 with 1 Axes>"
      ]
     },
     "metadata": {
      "needs_background": "light"
     },
     "output_type": "display_data"
    }
   ],
   "source": [
    "target_train.value_counts(normalize=False).plot.barh()\n",
    "\n",
    "plt.xlabel(\"Class frequency\")\n",
    "\n",
    "_ = plt.title(\"Class frequency in the training set\")"
   ]
  },
  {
   "cell_type": "code",
   "execution_count": 71,
   "metadata": {},
   "outputs": [
    {
     "name": "stdout",
     "output_type": "stream",
     "text": [
      "Accuracy of the dummy classifier: 0.382\n"
     ]
    }
   ],
   "source": [
    "from sklearn.dummy import DummyClassifier\n",
    "\n",
    "dummy_classifier = DummyClassifier(\n",
    "      strategy=\"most_frequent\"\n",
    ")\n",
    "\n",
    "dummy_classifier.fit(\n",
    "      data_train,\n",
    "      target_train\n",
    ")\n",
    "\n",
    "print(\n",
    "      f\"Accuracy of the dummy classifier: \"\n",
    "      f\"{dummy_classifier.score(data_test, target_test):.3f}\"\n",
    ")"
   ]
  },
  {
   "cell_type": "code",
   "execution_count": 72,
   "metadata": {},
   "outputs": [
    {
     "name": "stdout",
     "output_type": "stream",
     "text": [
      "Balanced accuracy: 0.843\n"
     ]
    }
   ],
   "source": [
    "from sklearn.metrics import balanced_accuracy_score\n",
    "\n",
    "balanced_accuracy = balanced_accuracy_score(\n",
    "    target_test,\n",
    "    target_predicted\n",
    ")\n",
    "\n",
    "print(\n",
    "    f\"Balanced accuracy: {balanced_accuracy:.3f}\"\n",
    ")"
   ]
  },
  {
   "cell_type": "markdown",
   "metadata": {},
   "source": [
    "##### Evaluation and different probability thresholds\n",
    "\n",
    "Another thing to consider in multiclass classification is OvR and OvO\n",
    "\n",
    "OvR — One vs. Rest\n",
    "\n",
    "OvR stands for \"One vs. Rest\". In this method, we evaluate multiclass models by comparing each class against the others simultaneously. We take one class and consider it as our \"positive\" class, while all the others (the rest) are considered as the \"negative\" class.\n",
    "\n",
    "By doing this, we reduce the multiclass classification output into a binary classification one. So it is possible to use all the known binary classification metrics to evaluate this scenario.\n",
    "\n",
    "We must repeat this for each class present on the data, so for a 3-class dataset, we get three different OvR scores. Ultimately, we can average them (simple or weighted average) to have a final OvR model score.\n",
    "\n",
    "![OvR](../figures/confusion/m_o_v_r.png)\n",
    "\n",
    "<br>\n",
    "\n",
    "OvO — One vs. One\n",
    "\n",
    "OvO stands for \"One vs. One\". Instead of comparing each class with the rest, this method compares all possible two-class combinations of the dataset.\n",
    "\n",
    "The first step is to get a copy of the dataset containing only the two classes and discard all the others. Let's say we have a 3-class scenario and choose the combination \"Class1 vs. Class2\" as the first. Then we define observations with real class = \"Class1\" as our positive class and the ones with real class = \"Class2\" as our negative class. Now that the problem is binary, we can use the same metrics we use for binary classification.\n",
    "\n",
    "Note that \"Class1 vs. Class2\" is different than \"Class2 vs. Class1\", so both cases should be accounted. Because of that, in a 3-class dataset, we get 6 OvO scores; in a 4-class dataset, we get 12 OvO scores.\n",
    "\n",
    "As in OvR, we can average all the OvO scores to get a final OvO model score.\n",
    "\n",
    "\n",
    "![OvO](../figures/confusion/m_o_v_o.png)\n",
    "\n",
    "<br>\n",
    "\n",
    "All statistics we presented now rely on the `classifier.predict` which outputs the most likely label. We haven’t used the probability associated with this prediction, which gives the classifier confidence in this prediction. \n",
    "\n",
    "The precision-recall curve does not support the multilabel setting. However, one can decide how to handle this case. We use OneVsRestClassifier for multi-label prediction.\n",
    "\n",
    "On this curve, each blue cross corresponds to a level of probability which we used as a decision threshold. We can see that we get different precision vs. recall values by varying this decision threshold.\n",
    "\n",
    "A perfect classifier would have a precision of 1 for all recall values. A metric characterizing the curve is linked to the area under the curve (AUC) and called average precision (AP). With an ideal classifier, the average precision would be 1.\n",
    "\n",
    "The precision and recall metric focuses on the positive class. However, one might be interested in the compromise between accurately discriminating the positive class and accurately discriminating the negative classes. \n",
    "\n",
    "The statistics used for this are sensitivity and specificity. Sensitivity is just another name for recall. However, specificity measures the proportion of correctly classified samples in the negative class defined as TN / (TN + FP). \n",
    "\n",
    "Similar to the precision-recall curve, sensitivity and specificity are generally plotted as a curve called the receiver operating characteristic (ROC) curve. This curve was built using the same principle as the precision-recall curve: we vary the probability threshold for determining “hard” prediction and compute the metrics. \n",
    "\n",
    "As with the precision-recall curve, we can compute the area under the ROC (ROC-AUC) to characterize the generalization performance of our classifier. \n",
    "\n",
    "<br>\n",
    "\n",
    "[source](https://www.pythonfixing.com/2022/01/fixed-how-to-plot-precision-and-recall.html)\n",
    "\n",
    "\n",
    "[source](https://scikit-learn.org/stable/auto_examples/model_selection/plot_precision_recall.html)\n",
    "\n",
    "\n",
    "[source](https://towardsdatascience.com/multiclass-classification-evaluation-with-roc-curves-and-roc-auc-294fd4617e3a)\n",
    "\n"
   ]
  },
  {
   "cell_type": "code",
   "execution_count": 73,
   "metadata": {},
   "outputs": [
    {
     "name": "stdout",
     "output_type": "stream",
     "text": [
      "number of classes is 3\n",
      "type of y_binarised is <class 'numpy.ndarray'>\n",
      "type of X.values is <class 'numpy.ndarray'>\n"
     ]
    }
   ],
   "source": [
    "from sklearn.preprocessing import label_binarize\n",
    "from sklearn.multiclass import OneVsRestClassifier\n",
    "from sklearn.ensemble import RandomForestClassifier\n",
    "\n",
    "n_classes = len(set(y.values))\n",
    "print(f\"number of classes is {n_classes}\")\n",
    "\n",
    "y_b = label_binarize(y.values, classes=[*range(n_classes)])\n",
    "\n",
    "print(f\"type of y_binarised is {type(y_b)}\")\n",
    "print(f\"type of X.values is {type(X.values)}\")\n",
    "\n"
   ]
  },
  {
   "cell_type": "code",
   "execution_count": 74,
   "metadata": {},
   "outputs": [],
   "source": [
    "X_train, X_test, y_train, y_test = train_test_split(\n",
    "    X.values,\n",
    "    y_b,\n",
    "    random_state=42,\n",
    "    test_size=0.6\n",
    ")\n",
    "\n",
    "clf_b = OneVsRestClassifier(\n",
    "    clf\n",
    ")\n",
    "\n",
    "clf_b.fit(\n",
    "    X_train,\n",
    "    y_train\n",
    ")\n",
    "\n",
    "target_predicted = clf_b.predict(X_test)\n",
    "\n",
    "target_proba_predicted = clf_b.predict_proba(\n",
    "    X_test\n",
    ")"
   ]
  },
  {
   "cell_type": "code",
   "execution_count": 75,
   "metadata": {},
   "outputs": [
    {
     "data": {
      "image/png": "[encoded data removed]",
      "text/plain": [
       "<Figure size 432x288 with 1 Axes>"
      ]
     },
     "metadata": {
      "needs_background": "light"
     },
     "output_type": "display_data"
    }
   ],
   "source": [
    "from sklearn.metrics import precision_recall_curve, roc_curve\n",
    "\n",
    "precision = dict()\n",
    "recall = dict()\n",
    "\n",
    "for i in range(n_classes):\n",
    "    precision[i], recall[i], _ = precision_recall_curve(\n",
    "        y_test[:, i],\n",
    "        target_proba_predicted[:, i]\n",
    "    )\n",
    "\n",
    "    plt.plot(\n",
    "        recall[i],\n",
    "        precision[i],\n",
    "        lw=2,\n",
    "        label='class {}'.format(i)\n",
    "    )\n",
    "    \n",
    "plt.xlabel(\"recall\")\n",
    "plt.ylabel(\"precision\")\n",
    "plt.legend(loc=\"best\")\n",
    "plt.title(\"precision vs. recall curve\")\n",
    "plt.show()\n",
    "\n"
   ]
  },
  {
   "cell_type": "code",
   "execution_count": 76,
   "metadata": {},
   "outputs": [
    {
     "data": {
      "image/png": "[encoded data removed]",
      "text/plain": [
       "<Figure size 432x288 with 1 Axes>"
      ]
     },
     "metadata": {
      "needs_background": "light"
     },
     "output_type": "display_data"
    }
   ],
   "source": [
    "# roc curve\n",
    "fpr = dict()\n",
    "tpr = dict()\n",
    "\n",
    "for i in range(n_classes):\n",
    "    fpr[i], tpr[i], _ = roc_curve(\n",
    "        y_test[:, i],\n",
    "        target_proba_predicted[:, i]\n",
    "    )\n",
    "    plt.plot(fpr[i], tpr[i], lw=2, label='class {}'.format(i))\n",
    "\n",
    "plt.xlabel(\"false positive rate\")\n",
    "plt.ylabel(\"true positive rate\")\n",
    "plt.legend(loc=\"best\")\n",
    "plt.title(\"ROC curve\")\n",
    "plt.show()"
   ]
  },
  {
   "cell_type": "markdown",
   "metadata": {},
   "source": [
    "##### QUIZ 4\n",
    "\n",
    "**1. What is the default score in scikit-learn when using a classifier?**\n",
    "\n",
    "a) balanced accuracy\n",
    "\n",
    "b) ROC-AUC\n",
    "\n",
    "c) accuracy\n",
    "\n",
    "<br>\n",
    "\n",
    "**2. Other than the decision threshold, metrics such as recall and precision also depend on the regularization parameters.**\n",
    "\n",
    "![question_2](../figures/quiz4_q2.png)\n",
    "\n",
    "**Assuming that class \"1\" (in red) is the positive class, use the previous figures to select which statements are true in this particular logistic regression model.**\n",
    "\n",
    "a) stronger regularization leads to higher precision\n",
    "\n",
    "b) stronger regularization leads to lower precision\n",
    "\n",
    "c) stronger regularization leads to higher recall \n",
    "\n",
    "d) stronger regularization leads to lower recall\n",
    "\n",
    "<br>\n",
    "\n"
   ]
  },
  {
   "cell_type": "markdown",
   "metadata": {},
   "source": [
    "#### Regression Metrics\n",
    "\n",
    "In this section, we will present the metrics used in the regression.\n",
    "\n",
    "We can not use classification metrics to evaluate the generalization performance of regression models because there is a fundamental difference between their target type target: a continuous variable in regression and a discrete variable in classification.\n",
    "\n",
    "<br>\n",
    "\n",
    "Some machine learning models are designed to be solved as an optimization problem: minimizing an error (also known as the loss function) using a training set. \n",
    "\n",
    "A basic loss function used in regression is the mean squared error (MSE). Thus, this metric is sometimes used to evaluate the model since said model optimizes it.\n",
    "\n",
    "<br>\n",
    "\n",
    "We will use a linear regression model for demonstration purposes and a \"refined\" ames housing data set.\n",
    "\n",
    "Our linear regression model minimizes the mean squared error on the training set. *It means that no other set of coefficients will decrease the error.*\n",
    "\n",
    "Then, we compute the mean squared error on the test set.\n",
    "\n",
    "The raw MSE can be challenging to interpret. One way is to rescale the MSE by the variance of the target. This score is known as the $R^2$ also called the coefficient of determination. \n",
    "\n",
    "Indeed, this is the default score used in scikit-learn by calling the method score.\n",
    "\n",
    "\n",
    "The $R^2$  score represents the proportion of variance of the target explained by the model's independent variables. The best score possible is 1, but it has no lower bound. \n",
    "\n",
    "However, a model that predicts the expected value of the target would get a score of 0.\n",
    "\n",
    "The $R^2$ score gives insight into the quality of the model's fit. \n",
    "\n",
    "However, we cannot compare $R^2$ from one dataset to another, and the value obtained does not have a meaningful interpretation relative to the original unit of the target. \n",
    "\n",
    "<br>\n",
    "\n",
    "We would be interested in the median or mean absolute error to get an interpretable score.\n",
    "\n",
    "By computing the mean absolute error, we can interpret that our model predicts, on average 22.572 k$ away from the true house price. A disadvantage of this metric is that a large error can impact the mean. \n",
    "\n",
    "We might not want large errors to influence our metric significantly for some applications. In that case, we can use the median absolute error.\n",
    "\n",
    "The mean absolute error (or median absolute error) still has a known limitation: committing an error of 50 k$ for a house valued at 50 k$ has the same impact as committing an error of 50 k$ for a house valued at 500 k$. \n",
    "\n",
    "Indeed, the mean absolute error is not relative.\n",
    "\n",
    "<br>\n",
    "\n",
    "**The mean absolute percentage error introduces this relative scaling.**\n",
    "\n",
    "In addition to metrics, we can visually represent the results by plotting the predicted values versus the true values.\n",
    "\n",
    "We generate a plot where the correct predictions lie on the diagonal line. This plot allows us to detect if the model consistently makes errors, i.e., has some bias.\n",
    "\n",
    "<br>\n",
    "\n",
    "We see in the plot that our model tends to underestimate the house price for the large True price values. Typically, this issue arises when the predicted target does not follow a normal distribution. \n",
    "\n",
    "In this case, the model would benefit from target transformation.\n",
    "\n",
    "Thus, once we transformed the target, we see that we corrected some of the high values.\n",
    "\n"
   ]
  },
  {
   "cell_type": "code",
   "execution_count": 77,
   "metadata": {},
   "outputs": [
    {
     "name": "stdout",
     "output_type": "stream",
     "text": [
      "(1460, 33)\n",
      "(1460,)\n"
     ]
    }
   ],
   "source": [
    "\n",
    "import pandas as pd\n",
    "import numpy as np\n",
    "\n",
    "ames_housing = pd.read_csv(\"../datasets/house_prices.csv\")\n",
    "ames_housing = ames_housing.drop(columns=\"Id\")\n",
    "\n",
    "X = ames_housing.drop(columns=\"SalePrice\")\n",
    "y = ames_housing[\"SalePrice\"]\n",
    "X = X.select_dtypes(np.number)\n",
    "y /= 1000\n",
    "\n",
    "print(X.shape)\n",
    "print(y.shape)\n"
   ]
  },
  {
   "cell_type": "code",
   "execution_count": 78,
   "metadata": {},
   "outputs": [
    {
     "data": {
      "image/png": "[encoded data removed]",
      "text/plain": [
       "<Figure size 432x288 with 1 Axes>"
      ]
     },
     "metadata": {
      "needs_background": "light"
     },
     "output_type": "display_data"
    }
   ],
   "source": [
    "import matplotlib.pyplot as plt\n",
    "y.plot.hist(bins=20, edgecolor=\"black\")\n",
    "plt.xlabel(\"House price in $\")\n",
    "_ = plt.title(\"Distribution of the house price \\nin Ames\")"
   ]
  },
  {
   "cell_type": "code",
   "execution_count": 79,
   "metadata": {},
   "outputs": [
    {
     "data": {
      "text/html": [
       "<div>\n",
       "<style scoped>\n",
       "    .dataframe tbody tr th:only-of-type {\n",
       "        vertical-align: middle;\n",
       "    }\n",
       "\n",
       "    .dataframe tbody tr th {\n",
       "        vertical-align: top;\n",
       "    }\n",
       "\n",
       "    .dataframe thead th {\n",
       "        text-align: right;\n",
       "    }\n",
       "</style>\n",
       "<table border=\"1\" class=\"dataframe\">\n",
       "  <thead>\n",
       "    <tr style=\"text-align: right;\">\n",
       "      <th></th>\n",
       "      <th>MSSubClass</th>\n",
       "      <th>LotArea</th>\n",
       "      <th>OverallQual</th>\n",
       "      <th>OverallCond</th>\n",
       "      <th>YearBuilt</th>\n",
       "      <th>YearRemodAdd</th>\n",
       "      <th>BsmtFinSF1</th>\n",
       "      <th>BsmtFinSF2</th>\n",
       "      <th>BsmtUnfSF</th>\n",
       "      <th>TotalBsmtSF</th>\n",
       "      <th>...</th>\n",
       "      <th>GarageArea</th>\n",
       "      <th>WoodDeckSF</th>\n",
       "      <th>OpenPorchSF</th>\n",
       "      <th>EnclosedPorch</th>\n",
       "      <th>3SsnPorch</th>\n",
       "      <th>ScreenPorch</th>\n",
       "      <th>PoolArea</th>\n",
       "      <th>MiscVal</th>\n",
       "      <th>MoSold</th>\n",
       "      <th>YrSold</th>\n",
       "    </tr>\n",
       "  </thead>\n",
       "  <tbody>\n",
       "    <tr>\n",
       "      <th>0</th>\n",
       "      <td>60</td>\n",
       "      <td>8450</td>\n",
       "      <td>7</td>\n",
       "      <td>5</td>\n",
       "      <td>2003</td>\n",
       "      <td>2003</td>\n",
       "      <td>706</td>\n",
       "      <td>0</td>\n",
       "      <td>150</td>\n",
       "      <td>856</td>\n",
       "      <td>...</td>\n",
       "      <td>548</td>\n",
       "      <td>0</td>\n",
       "      <td>61</td>\n",
       "      <td>0</td>\n",
       "      <td>0</td>\n",
       "      <td>0</td>\n",
       "      <td>0</td>\n",
       "      <td>0</td>\n",
       "      <td>2</td>\n",
       "      <td>2008</td>\n",
       "    </tr>\n",
       "    <tr>\n",
       "      <th>1</th>\n",
       "      <td>20</td>\n",
       "      <td>9600</td>\n",
       "      <td>6</td>\n",
       "      <td>8</td>\n",
       "      <td>1976</td>\n",
       "      <td>1976</td>\n",
       "      <td>978</td>\n",
       "      <td>0</td>\n",
       "      <td>284</td>\n",
       "      <td>1262</td>\n",
       "      <td>...</td>\n",
       "      <td>460</td>\n",
       "      <td>298</td>\n",
       "      <td>0</td>\n",
       "      <td>0</td>\n",
       "      <td>0</td>\n",
       "      <td>0</td>\n",
       "      <td>0</td>\n",
       "      <td>0</td>\n",
       "      <td>5</td>\n",
       "      <td>2007</td>\n",
       "    </tr>\n",
       "    <tr>\n",
       "      <th>2</th>\n",
       "      <td>60</td>\n",
       "      <td>11250</td>\n",
       "      <td>7</td>\n",
       "      <td>5</td>\n",
       "      <td>2001</td>\n",
       "      <td>2002</td>\n",
       "      <td>486</td>\n",
       "      <td>0</td>\n",
       "      <td>434</td>\n",
       "      <td>920</td>\n",
       "      <td>...</td>\n",
       "      <td>608</td>\n",
       "      <td>0</td>\n",
       "      <td>42</td>\n",
       "      <td>0</td>\n",
       "      <td>0</td>\n",
       "      <td>0</td>\n",
       "      <td>0</td>\n",
       "      <td>0</td>\n",
       "      <td>9</td>\n",
       "      <td>2008</td>\n",
       "    </tr>\n",
       "    <tr>\n",
       "      <th>3</th>\n",
       "      <td>70</td>\n",
       "      <td>9550</td>\n",
       "      <td>7</td>\n",
       "      <td>5</td>\n",
       "      <td>1915</td>\n",
       "      <td>1970</td>\n",
       "      <td>216</td>\n",
       "      <td>0</td>\n",
       "      <td>540</td>\n",
       "      <td>756</td>\n",
       "      <td>...</td>\n",
       "      <td>642</td>\n",
       "      <td>0</td>\n",
       "      <td>35</td>\n",
       "      <td>272</td>\n",
       "      <td>0</td>\n",
       "      <td>0</td>\n",
       "      <td>0</td>\n",
       "      <td>0</td>\n",
       "      <td>2</td>\n",
       "      <td>2006</td>\n",
       "    </tr>\n",
       "    <tr>\n",
       "      <th>4</th>\n",
       "      <td>60</td>\n",
       "      <td>14260</td>\n",
       "      <td>8</td>\n",
       "      <td>5</td>\n",
       "      <td>2000</td>\n",
       "      <td>2000</td>\n",
       "      <td>655</td>\n",
       "      <td>0</td>\n",
       "      <td>490</td>\n",
       "      <td>1145</td>\n",
       "      <td>...</td>\n",
       "      <td>836</td>\n",
       "      <td>192</td>\n",
       "      <td>84</td>\n",
       "      <td>0</td>\n",
       "      <td>0</td>\n",
       "      <td>0</td>\n",
       "      <td>0</td>\n",
       "      <td>0</td>\n",
       "      <td>12</td>\n",
       "      <td>2008</td>\n",
       "    </tr>\n",
       "  </tbody>\n",
       "</table>\n",
       "<p>5 rows × 33 columns</p>\n",
       "</div>"
      ],
      "text/plain": [
       "   MSSubClass  LotArea  OverallQual  OverallCond  YearBuilt  YearRemodAdd  \\\n",
       "0          60     8450            7            5       2003          2003   \n",
       "1          20     9600            6            8       1976          1976   \n",
       "2          60    11250            7            5       2001          2002   \n",
       "3          70     9550            7            5       1915          1970   \n",
       "4          60    14260            8            5       2000          2000   \n",
       "\n",
       "   BsmtFinSF1  BsmtFinSF2  BsmtUnfSF  TotalBsmtSF  ...  GarageArea  \\\n",
       "0         706           0        150          856  ...         548   \n",
       "1         978           0        284         1262  ...         460   \n",
       "2         486           0        434          920  ...         608   \n",
       "3         216           0        540          756  ...         642   \n",
       "4         655           0        490         1145  ...         836   \n",
       "\n",
       "   WoodDeckSF  OpenPorchSF  EnclosedPorch  3SsnPorch  ScreenPorch  PoolArea  \\\n",
       "0           0           61              0          0            0         0   \n",
       "1         298            0              0          0            0         0   \n",
       "2           0           42              0          0            0         0   \n",
       "3           0           35            272          0            0         0   \n",
       "4         192           84              0          0            0         0   \n",
       "\n",
       "   MiscVal  MoSold  YrSold  \n",
       "0        0       2    2008  \n",
       "1        0       5    2007  \n",
       "2        0       9    2008  \n",
       "3        0       2    2006  \n",
       "4        0      12    2008  \n",
       "\n",
       "[5 rows x 33 columns]"
      ]
     },
     "execution_count": 79,
     "metadata": {},
     "output_type": "execute_result"
    }
   ],
   "source": [
    "X.head()"
   ]
  },
  {
   "cell_type": "code",
   "execution_count": 80,
   "metadata": {},
   "outputs": [
    {
     "data": {
      "text/plain": [
       "0    208.5\n",
       "1    181.5\n",
       "2    223.5\n",
       "3    140.0\n",
       "4    250.0\n",
       "Name: SalePrice, dtype: float64"
      ]
     },
     "execution_count": 80,
     "metadata": {},
     "output_type": "execute_result"
    }
   ],
   "source": [
    "y.head()"
   ]
  },
  {
   "cell_type": "code",
   "execution_count": 81,
   "metadata": {},
   "outputs": [
    {
     "name": "stdout",
     "output_type": "stream",
     "text": [
      "<class 'pandas.core.frame.DataFrame'>\n",
      "RangeIndex: 1460 entries, 0 to 1459\n",
      "Data columns (total 33 columns):\n",
      " #   Column         Non-Null Count  Dtype\n",
      "---  ------         --------------  -----\n",
      " 0   MSSubClass     1460 non-null   int64\n",
      " 1   LotArea        1460 non-null   int64\n",
      " 2   OverallQual    1460 non-null   int64\n",
      " 3   OverallCond    1460 non-null   int64\n",
      " 4   YearBuilt      1460 non-null   int64\n",
      " 5   YearRemodAdd   1460 non-null   int64\n",
      " 6   BsmtFinSF1     1460 non-null   int64\n",
      " 7   BsmtFinSF2     1460 non-null   int64\n",
      " 8   BsmtUnfSF      1460 non-null   int64\n",
      " 9   TotalBsmtSF    1460 non-null   int64\n",
      " 10  1stFlrSF       1460 non-null   int64\n",
      " 11  2ndFlrSF       1460 non-null   int64\n",
      " 12  LowQualFinSF   1460 non-null   int64\n",
      " 13  GrLivArea      1460 non-null   int64\n",
      " 14  BsmtFullBath   1460 non-null   int64\n",
      " 15  BsmtHalfBath   1460 non-null   int64\n",
      " 16  FullBath       1460 non-null   int64\n",
      " 17  HalfBath       1460 non-null   int64\n",
      " 18  BedroomAbvGr   1460 non-null   int64\n",
      " 19  KitchenAbvGr   1460 non-null   int64\n",
      " 20  TotRmsAbvGrd   1460 non-null   int64\n",
      " 21  Fireplaces     1460 non-null   int64\n",
      " 22  GarageCars     1460 non-null   int64\n",
      " 23  GarageArea     1460 non-null   int64\n",
      " 24  WoodDeckSF     1460 non-null   int64\n",
      " 25  OpenPorchSF    1460 non-null   int64\n",
      " 26  EnclosedPorch  1460 non-null   int64\n",
      " 27  3SsnPorch      1460 non-null   int64\n",
      " 28  ScreenPorch    1460 non-null   int64\n",
      " 29  PoolArea       1460 non-null   int64\n",
      " 30  MiscVal        1460 non-null   int64\n",
      " 31  MoSold         1460 non-null   int64\n",
      " 32  YrSold         1460 non-null   int64\n",
      "dtypes: int64(33)\n",
      "memory usage: 376.5 KB\n"
     ]
    }
   ],
   "source": [
    "X.info()"
   ]
  },
  {
   "cell_type": "code",
   "execution_count": 82,
   "metadata": {},
   "outputs": [],
   "source": [
    "from sklearn.model_selection import train_test_split\n",
    "\n",
    "data_train, data_test, target_train, target_test = train_test_split(\n",
    "    X,\n",
    "    y,\n",
    "    shuffle=True,\n",
    "    random_state=42\n",
    ")"
   ]
  },
  {
   "cell_type": "code",
   "execution_count": 83,
   "metadata": {},
   "outputs": [
    {
     "name": "stdout",
     "output_type": "stream",
     "text": [
      "Mean squared error on the training set: 1207.853\n",
      "Mean squared error on the testing set: 1261.518\n"
     ]
    },
    {
     "data": {
      "text/plain": [
       "0.8199197610891922"
      ]
     },
     "execution_count": 83,
     "metadata": {},
     "output_type": "execute_result"
    }
   ],
   "source": [
    "from sklearn.linear_model import LinearRegression\n",
    "from sklearn.metrics import mean_squared_error\n",
    "\n",
    "regressor = LinearRegression()\n",
    "\n",
    "regressor.fit(\n",
    "    data_train,\n",
    "    target_train\n",
    ")\n",
    "\n",
    "target_predicted = regressor.predict(data_train)\n",
    "\n",
    "print(\n",
    "    f\"Mean squared error on the training set: \"\n",
    "    f\"{mean_squared_error(target_train, target_predicted):.3f}\"\n",
    ")\n",
    "\n",
    "target_predicted = regressor.predict(data_test)\n",
    "\n",
    "print(\n",
    "    f\"Mean squared error on the testing set: \"\n",
    "    f\"{mean_squared_error(target_test, target_predicted):.3f}\"\n",
    ")\n",
    "\n",
    "regressor.score(data_test, target_test)"
   ]
  },
  {
   "cell_type": "code",
   "execution_count": 84,
   "metadata": {},
   "outputs": [
    {
     "data": {
      "text/plain": [
       "0.8199197610891922"
      ]
     },
     "execution_count": 84,
     "metadata": {},
     "output_type": "execute_result"
    }
   ],
   "source": [
    "regressor.score(data_test, target_test)"
   ]
  },
  {
   "cell_type": "code",
   "execution_count": 85,
   "metadata": {},
   "outputs": [
    {
     "name": "stdout",
     "output_type": "stream",
     "text": [
      "R2 score for a regressor predicting the mean:-0.001\n"
     ]
    }
   ],
   "source": [
    "from sklearn.dummy import DummyRegressor\n",
    "\n",
    "dummy_regressor = DummyRegressor(\n",
    "    strategy=\"mean\"\n",
    ")\n",
    "\n",
    "dummy_regressor.fit(\n",
    "    data_train,\n",
    "    target_train\n",
    ")\n",
    "\n",
    "print(\n",
    "    f\"R2 score for a regressor predicting the mean:\"\n",
    "    f\"{dummy_regressor.score(data_test, target_test):.3f}\"\n",
    ")\n"
   ]
  },
  {
   "cell_type": "code",
   "execution_count": 86,
   "metadata": {},
   "outputs": [
    {
     "name": "stdout",
     "output_type": "stream",
     "text": [
      "Mean absolute error: 22.522 k$\n",
      "Median absolute error: 16.564 k$\n",
      "Mean absolute percentage error: 13.256 %\n"
     ]
    }
   ],
   "source": [
    "from sklearn.metrics import mean_absolute_error\n",
    "from sklearn.metrics import median_absolute_error\n",
    "from sklearn.metrics import mean_absolute_percentage_error\n",
    "\n",
    "target_predicted = regressor.predict(data_test)\n",
    "\n",
    "print(\n",
    "    f\"Mean absolute error: \"\n",
    "    f\"{mean_absolute_error(target_test, target_predicted):.3f} k$\"\n",
    ")\n",
    "\n",
    "\n",
    "\n",
    "print(\n",
    "    f\"Median absolute error: \"\n",
    "    f\"{median_absolute_error(target_test, target_predicted):.3f} k$\"\n",
    ")\n",
    "\n",
    "\n",
    "\n",
    "print(\n",
    "    f\"Mean absolute percentage error: \"\n",
    "    f\"{mean_absolute_percentage_error(target_test, target_predicted) * 100:.3f} %\"\n",
    ")"
   ]
  },
  {
   "cell_type": "code",
   "execution_count": 87,
   "metadata": {},
   "outputs": [
    {
     "data": {
      "image/png": "[encoded data removed]",
      "text/plain": [
       "<Figure size 432x288 with 1 Axes>"
      ]
     },
     "metadata": {
      "needs_background": "light"
     },
     "output_type": "display_data"
    }
   ],
   "source": [
    "import matplotlib.pyplot as plt\n",
    "import seaborn as sns\n",
    "import pandas as pd\n",
    "\n",
    "predicted_actual = {\n",
    "    \"True values (k$)\": target_test,\n",
    "    \"Predicted values (k$)\": target_predicted\n",
    "}\n",
    "\n",
    "predicted_actual = pd.DataFrame(predicted_actual)\n",
    "\n",
    "sns.scatterplot(\n",
    "    data=predicted_actual,\n",
    "    x=\"True values (k$)\",\n",
    "    y=\"Predicted values (k$)\",\n",
    "    color=\"black\",\n",
    "    alpha=0.5\n",
    ")\n",
    "\n",
    "plt.axline((\n",
    "    0, 0),\n",
    "    slope=1,\n",
    "    label=\"Perfect fit\"\n",
    ")\n",
    "\n",
    "plt.axis('square')\n",
    "_ = plt.title(\"Regression using a model without \\ntarget transformation\")"
   ]
  },
  {
   "cell_type": "code",
   "execution_count": 88,
   "metadata": {},
   "outputs": [
    {
     "data": {
      "image/png": "[encoded data removed]",
      "text/plain": [
       "<Figure size 432x288 with 1 Axes>"
      ]
     },
     "metadata": {
      "needs_background": "light"
     },
     "output_type": "display_data"
    }
   ],
   "source": [
    "from sklearn.preprocessing import QuantileTransformer\n",
    "from sklearn.compose import TransformedTargetRegressor\n",
    "\n",
    "\"\"\"\n",
    "This method transforms the features to follow a uniform or a normal distribution. \n",
    "Therefore, for a given feature, this transformation tends to spread out the most frequent values. \n",
    "It also reduces the impact of (marginal) outliers: this is therefore a robust preprocessing scheme.\n",
    "The transformation is applied on each feature independently. \n",
    "First an estimate of the cumulative distribution function of a feature is used to map the original values to a uniform distribution. \n",
    "The obtained values are then mapped to the desired output distribution using the associated quantile function. \n",
    "Features values of new/unseen data that fall below or above the fitted range will be mapped to the bounds of the output distribution. \n",
    "Note that this transform is non-linear. It may distort linear correlations between variables measured at the same scale but renders variables measured at different scales more directly comparable.\n",
    "\"\"\"\n",
    "\n",
    "transformer = QuantileTransformer(\n",
    "    # this is the default value\n",
    "    n_quantiles=1000,\n",
    "    output_distribution=\"normal\"\n",
    ")\n",
    "\n",
    "model_transformed_target = TransformedTargetRegressor(\n",
    "    regressor=regressor,\n",
    "    transformer=transformer\n",
    ")\n",
    "\n",
    "model_transformed_target.fit(\n",
    "    data_train,\n",
    "    target_train\n",
    ")\n",
    "\n",
    "target_predicted = model_transformed_target.predict(\n",
    "    data_test\n",
    ")\n",
    "\n",
    "\n",
    "predicted_actual = {\n",
    "    \"True values (k$)\": target_test,\n",
    "    \"Predicted values (k$)\": target_predicted\n",
    "}\n",
    "\n",
    "predicted_actual = pd.DataFrame(predicted_actual)\n",
    "\n",
    "sns.scatterplot(\n",
    "    data=predicted_actual,\n",
    "    x=\"True values (k$)\",\n",
    "    y=\"Predicted values (k$)\",\n",
    "    color=\"black\",\n",
    "    alpha=0.5\n",
    ")\n",
    "\n",
    "plt.axline(\n",
    "    (0, 0),\n",
    "    slope=1,\n",
    "    label=\"Perfect fit\"\n",
    ")\n",
    "\n",
    "plt.axis('square')\n",
    "\n",
    "plt.legend()\n",
    "\n",
    "_ = plt.title(\"Regression using a model that\\n transform the target before \"\n",
    "              \"fitting\")"
   ]
  },
  {
   "cell_type": "code",
   "execution_count": 89,
   "metadata": {},
   "outputs": [
    {
     "name": "stdout",
     "output_type": "stream",
     "text": [
      "R2 score: 0.684 +/- 0.121\n"
     ]
    },
    {
     "data": {
      "text/html": [
       "<div>\n",
       "<style scoped>\n",
       "    .dataframe tbody tr th:only-of-type {\n",
       "        vertical-align: middle;\n",
       "    }\n",
       "\n",
       "    .dataframe tbody tr th {\n",
       "        vertical-align: top;\n",
       "    }\n",
       "\n",
       "    .dataframe thead th {\n",
       "        text-align: right;\n",
       "    }\n",
       "</style>\n",
       "<table border=\"1\" class=\"dataframe\">\n",
       "  <thead>\n",
       "    <tr style=\"text-align: right;\">\n",
       "      <th></th>\n",
       "      <th>R2</th>\n",
       "      <th>MAE</th>\n",
       "    </tr>\n",
       "  </thead>\n",
       "  <tbody>\n",
       "    <tr>\n",
       "      <th>0</th>\n",
       "      <td>0.623595</td>\n",
       "      <td>0.234671</td>\n",
       "    </tr>\n",
       "    <tr>\n",
       "      <th>1</th>\n",
       "      <td>0.698961</td>\n",
       "      <td>0.214481</td>\n",
       "    </tr>\n",
       "    <tr>\n",
       "      <th>2</th>\n",
       "      <td>0.755933</td>\n",
       "      <td>0.180836</td>\n",
       "    </tr>\n",
       "    <tr>\n",
       "      <th>3</th>\n",
       "      <td>0.773021</td>\n",
       "      <td>0.169694</td>\n",
       "    </tr>\n",
       "    <tr>\n",
       "      <th>4</th>\n",
       "      <td>0.671920</td>\n",
       "      <td>0.196616</td>\n",
       "    </tr>\n",
       "  </tbody>\n",
       "</table>\n",
       "</div>"
      ],
      "text/plain": [
       "         R2       MAE\n",
       "0  0.623595  0.234671\n",
       "1  0.698961  0.214481\n",
       "2  0.755933  0.180836\n",
       "3  0.773021  0.169694\n",
       "4  0.671920  0.196616"
      ]
     },
     "execution_count": 89,
     "metadata": {},
     "output_type": "execute_result"
    }
   ],
   "source": [
    "from sklearn.model_selection import cross_validate\n",
    "import pandas as pd\n",
    "from sklearn.linear_model import LinearRegression\n",
    "from sklearn.model_selection import cross_val_score\n",
    "\n",
    "model = LinearRegression()\n",
    "\n",
    "\n",
    "scores = cross_val_score(\n",
    "    model,\n",
    "    data,\n",
    "    target,\n",
    "    cv=10,\n",
    "    scoring=\"r2\"\n",
    ")\n",
    "\n",
    "print(f\"R2 score: {scores.mean():.3f} +/- {scores.std():.3f}\")\n",
    "\n",
    "scoring = [\"r2\", \"neg_mean_absolute_error\"]\n",
    "cv_results = cross_validate(model, data, target, scoring=scoring)\n",
    "\n",
    "scores = {\n",
    "    \"R2\": cv_results[\"test_r2\"],\n",
    "    \"MAE\": -cv_results[\"test_neg_mean_absolute_error\"]\n",
    "}\n",
    "\n",
    "scores = pd.DataFrame(scores)\n",
    "scores"
   ]
  },
  {
   "cell_type": "markdown",
   "metadata": {},
   "source": [
    "##### QUIZ 5\n",
    "\n",
    "**1. What is the default score in scikit-learn when using a regressor?**\n",
    "\n",
    "a) $R^2$\n",
    "\n",
    "b) mean absolute error\n",
    "\n",
    "c) median absolute error\n",
    "\n",
    "<br>\n",
    "\n",
    "\n",
    "**2. If we observe that the values returned by `cross_val_scores(model, X, y, scoring=\"r2\")` increase after changing the model parameters, it means that the latest model:**\n",
    "\n",
    "a) generalizes better\n",
    "\n",
    "b) generalizes worse \n",
    "\n",
    "<br>\n",
    "\n",
    "**3. If we observe that the values returned by `cross_val_scores(model, X, y, scoring=\"neg_mean_squared_error\")` increase after changing the model parameters, it means that the latest model:**\n",
    "\n",
    "a) generalizes better\n",
    " \n",
    "b) generalizes worse \n",
    "\n",
    "<br>\n",
    "\n",
    "\n",
    "**4. Values returned by `cross_val_scores(model, X, y, scoring=\"neg_mean_squared_error\")` are:**\n",
    "\n",
    "a) guaranteed to be positive or zero \n",
    "\n",
    "b) guaranteed to be negative or zero \n",
    "\n",
    "c) can be either positive or negative depending on the data\n",
    "\n",
    "\n",
    "<br>"
   ]
  }
 ],
 "metadata": {
  "interpreter": {
   "hash": "9d1d2e3121d0b20776376c643d68565d9e63b38fe6258debd2f2fdfbf80c13c2"
  },
  "kernelspec": {
   "display_name": "Python 3.10.4 ('ml_with_sk')",
   "language": "python",
   "name": "python3"
  },
  "language_info": {
   "codemirror_mode": {
    "name": "ipython",
    "version": 3
   },
   "file_extension": ".py",
   "mimetype": "text/x-python",
   "name": "python",
   "nbconvert_exporter": "python",
   "pygments_lexer": "ipython3",
   "version": "3.10.4"
  },
  "orig_nbformat": 4
 },
 "nbformat": 4,
 "nbformat_minor": 2
}
